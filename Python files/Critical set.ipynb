{
 "cells": [
  {
   "cell_type": "code",
   "execution_count": 2,
   "metadata": {},
   "outputs": [],
   "source": [
    "import pandas as pd\n",
    "import numpy as np\n",
    "from math import floor\n",
    "import matplotlib.pyplot as plt\n",
    "from sklearn.linear_model import LinearRegression,LogisticRegression,SGDRegressor,Lasso\n",
    "from sklearn.ensemble import RandomForestRegressor\n",
    "from sklearn.svm import SVR\n",
    "from sklearn.tree import DecisionTreeRegressor\n",
    "from sklearn import tree\n",
    "from sklearn.model_selection import train_test_split\n",
    "from sklearn.preprocessing import PolynomialFeatures\n",
    "from sklearn.preprocessing import StandardScaler\n",
    "from sklearn import metrics\n",
    "import xgboost\n",
    "from sklearn.model_selection import GridSearchCV\n",
    "from sklearn.metrics import mean_squared_error\n",
    "from math import sqrt\n",
    "from sklearn.metrics import accuracy_score\n",
    "from sklearn.linear_model import LinearRegression"
   ]
  },
  {
   "cell_type": "code",
   "execution_count": null,
   "metadata": {},
   "outputs": [],
   "source": []
  },
  {
   "cell_type": "code",
   "execution_count": 3,
   "metadata": {},
   "outputs": [],
   "source": [
    "train = pd.read_csv(\"TrainingSet.csv\",header = None)\n",
    "test  = pd.read_csv(\"TestingSet.csv\",header = None)"
   ]
  },
  {
   "cell_type": "code",
   "execution_count": 4,
   "metadata": {},
   "outputs": [
    {
     "data": {
      "text/plain": [
       "((1247, 291), (615, 291))"
      ]
     },
     "execution_count": 4,
     "metadata": {},
     "output_type": "execute_result"
    }
   ],
   "source": [
    "train.shape,test.shape"
   ]
  },
  {
   "cell_type": "code",
   "execution_count": 5,
   "metadata": {},
   "outputs": [
    {
     "data": {
      "text/html": [
       "<div>\n",
       "<style scoped>\n",
       "    .dataframe tbody tr th:only-of-type {\n",
       "        vertical-align: middle;\n",
       "    }\n",
       "\n",
       "    .dataframe tbody tr th {\n",
       "        vertical-align: top;\n",
       "    }\n",
       "\n",
       "    .dataframe thead th {\n",
       "        text-align: right;\n",
       "    }\n",
       "</style>\n",
       "<table border=\"1\" class=\"dataframe\">\n",
       "  <thead>\n",
       "    <tr style=\"text-align: right;\">\n",
       "      <th></th>\n",
       "      <th>0</th>\n",
       "      <th>1</th>\n",
       "      <th>2</th>\n",
       "      <th>3</th>\n",
       "      <th>4</th>\n",
       "      <th>5</th>\n",
       "      <th>6</th>\n",
       "      <th>7</th>\n",
       "      <th>8</th>\n",
       "      <th>9</th>\n",
       "      <th>...</th>\n",
       "      <th>281</th>\n",
       "      <th>282</th>\n",
       "      <th>283</th>\n",
       "      <th>284</th>\n",
       "      <th>285</th>\n",
       "      <th>286</th>\n",
       "      <th>287</th>\n",
       "      <th>288</th>\n",
       "      <th>289</th>\n",
       "      <th>290</th>\n",
       "    </tr>\n",
       "  </thead>\n",
       "  <tbody>\n",
       "    <tr>\n",
       "      <th>0</th>\n",
       "      <td>145.398426</td>\n",
       "      <td>143.947924</td>\n",
       "      <td>149.544565</td>\n",
       "      <td>148.546107</td>\n",
       "      <td>149.000002</td>\n",
       "      <td>147.242482</td>\n",
       "      <td>141.624307</td>\n",
       "      <td>144.572620</td>\n",
       "      <td>148.996453</td>\n",
       "      <td>149.195514</td>\n",
       "      <td>...</td>\n",
       "      <td>121.225816</td>\n",
       "      <td>120.597282</td>\n",
       "      <td>120.377565</td>\n",
       "      <td>124.842861</td>\n",
       "      <td>117.222031</td>\n",
       "      <td>131.023824</td>\n",
       "      <td>127.449612</td>\n",
       "      <td>0.0</td>\n",
       "      <td>13711.362181</td>\n",
       "      <td>81208.204676</td>\n",
       "    </tr>\n",
       "    <tr>\n",
       "      <th>1</th>\n",
       "      <td>149.124004</td>\n",
       "      <td>154.767439</td>\n",
       "      <td>151.297803</td>\n",
       "      <td>161.266186</td>\n",
       "      <td>154.527797</td>\n",
       "      <td>155.738589</td>\n",
       "      <td>156.416732</td>\n",
       "      <td>150.705914</td>\n",
       "      <td>163.808556</td>\n",
       "      <td>155.818415</td>\n",
       "      <td>...</td>\n",
       "      <td>128.570644</td>\n",
       "      <td>129.403415</td>\n",
       "      <td>127.143715</td>\n",
       "      <td>137.125952</td>\n",
       "      <td>137.386685</td>\n",
       "      <td>138.112987</td>\n",
       "      <td>126.240992</td>\n",
       "      <td>0.0</td>\n",
       "      <td>13795.015057</td>\n",
       "      <td>82093.181293</td>\n",
       "    </tr>\n",
       "    <tr>\n",
       "      <th>2</th>\n",
       "      <td>136.752202</td>\n",
       "      <td>134.564304</td>\n",
       "      <td>125.499360</td>\n",
       "      <td>143.369128</td>\n",
       "      <td>138.272648</td>\n",
       "      <td>128.842718</td>\n",
       "      <td>131.853407</td>\n",
       "      <td>129.183816</td>\n",
       "      <td>126.273212</td>\n",
       "      <td>123.048489</td>\n",
       "      <td>...</td>\n",
       "      <td>210.390025</td>\n",
       "      <td>232.626962</td>\n",
       "      <td>238.480241</td>\n",
       "      <td>224.306268</td>\n",
       "      <td>241.039751</td>\n",
       "      <td>221.927541</td>\n",
       "      <td>218.596117</td>\n",
       "      <td>0.0</td>\n",
       "      <td>15423.783365</td>\n",
       "      <td>80412.043124</td>\n",
       "    </tr>\n",
       "    <tr>\n",
       "      <th>3</th>\n",
       "      <td>135.031538</td>\n",
       "      <td>121.077362</td>\n",
       "      <td>130.089789</td>\n",
       "      <td>123.934188</td>\n",
       "      <td>117.022083</td>\n",
       "      <td>125.333571</td>\n",
       "      <td>131.738233</td>\n",
       "      <td>131.517786</td>\n",
       "      <td>127.237180</td>\n",
       "      <td>124.515591</td>\n",
       "      <td>...</td>\n",
       "      <td>144.031640</td>\n",
       "      <td>146.337742</td>\n",
       "      <td>157.788693</td>\n",
       "      <td>139.202443</td>\n",
       "      <td>147.019316</td>\n",
       "      <td>145.799245</td>\n",
       "      <td>143.488376</td>\n",
       "      <td>0.0</td>\n",
       "      <td>11428.642169</td>\n",
       "      <td>81288.598248</td>\n",
       "    </tr>\n",
       "    <tr>\n",
       "      <th>4</th>\n",
       "      <td>142.144929</td>\n",
       "      <td>154.917055</td>\n",
       "      <td>145.941569</td>\n",
       "      <td>134.759354</td>\n",
       "      <td>147.970888</td>\n",
       "      <td>135.737630</td>\n",
       "      <td>130.989025</td>\n",
       "      <td>128.658596</td>\n",
       "      <td>140.334149</td>\n",
       "      <td>137.824694</td>\n",
       "      <td>...</td>\n",
       "      <td>176.888576</td>\n",
       "      <td>172.254285</td>\n",
       "      <td>181.892623</td>\n",
       "      <td>178.539563</td>\n",
       "      <td>181.879098</td>\n",
       "      <td>190.691711</td>\n",
       "      <td>188.935366</td>\n",
       "      <td>0.0</td>\n",
       "      <td>9058.713216</td>\n",
       "      <td>82097.073962</td>\n",
       "    </tr>\n",
       "  </tbody>\n",
       "</table>\n",
       "<p>5 rows × 291 columns</p>\n",
       "</div>"
      ],
      "text/plain": [
       "          0           1           2           3           4           5    \\\n",
       "0  145.398426  143.947924  149.544565  148.546107  149.000002  147.242482   \n",
       "1  149.124004  154.767439  151.297803  161.266186  154.527797  155.738589   \n",
       "2  136.752202  134.564304  125.499360  143.369128  138.272648  128.842718   \n",
       "3  135.031538  121.077362  130.089789  123.934188  117.022083  125.333571   \n",
       "4  142.144929  154.917055  145.941569  134.759354  147.970888  135.737630   \n",
       "\n",
       "          6           7           8           9    ...         281  \\\n",
       "0  141.624307  144.572620  148.996453  149.195514  ...  121.225816   \n",
       "1  156.416732  150.705914  163.808556  155.818415  ...  128.570644   \n",
       "2  131.853407  129.183816  126.273212  123.048489  ...  210.390025   \n",
       "3  131.738233  131.517786  127.237180  124.515591  ...  144.031640   \n",
       "4  130.989025  128.658596  140.334149  137.824694  ...  176.888576   \n",
       "\n",
       "          282         283         284         285         286         287  \\\n",
       "0  120.597282  120.377565  124.842861  117.222031  131.023824  127.449612   \n",
       "1  129.403415  127.143715  137.125952  137.386685  138.112987  126.240992   \n",
       "2  232.626962  238.480241  224.306268  241.039751  221.927541  218.596117   \n",
       "3  146.337742  157.788693  139.202443  147.019316  145.799245  143.488376   \n",
       "4  172.254285  181.892623  178.539563  181.879098  190.691711  188.935366   \n",
       "\n",
       "   288           289           290  \n",
       "0  0.0  13711.362181  81208.204676  \n",
       "1  0.0  13795.015057  82093.181293  \n",
       "2  0.0  15423.783365  80412.043124  \n",
       "3  0.0  11428.642169  81288.598248  \n",
       "4  0.0   9058.713216  82097.073962  \n",
       "\n",
       "[5 rows x 291 columns]"
      ]
     },
     "execution_count": 5,
     "metadata": {},
     "output_type": "execute_result"
    }
   ],
   "source": [
    "train.head()"
   ]
  },
  {
   "cell_type": "code",
   "execution_count": 6,
   "metadata": {},
   "outputs": [
    {
     "data": {
      "text/html": [
       "<div>\n",
       "<style scoped>\n",
       "    .dataframe tbody tr th:only-of-type {\n",
       "        vertical-align: middle;\n",
       "    }\n",
       "\n",
       "    .dataframe tbody tr th {\n",
       "        vertical-align: top;\n",
       "    }\n",
       "\n",
       "    .dataframe thead th {\n",
       "        text-align: right;\n",
       "    }\n",
       "</style>\n",
       "<table border=\"1\" class=\"dataframe\">\n",
       "  <thead>\n",
       "    <tr style=\"text-align: right;\">\n",
       "      <th></th>\n",
       "      <th>0</th>\n",
       "      <th>1</th>\n",
       "      <th>2</th>\n",
       "      <th>3</th>\n",
       "      <th>4</th>\n",
       "      <th>5</th>\n",
       "      <th>6</th>\n",
       "      <th>7</th>\n",
       "      <th>8</th>\n",
       "      <th>9</th>\n",
       "      <th>...</th>\n",
       "      <th>281</th>\n",
       "      <th>282</th>\n",
       "      <th>283</th>\n",
       "      <th>284</th>\n",
       "      <th>285</th>\n",
       "      <th>286</th>\n",
       "      <th>287</th>\n",
       "      <th>288</th>\n",
       "      <th>289</th>\n",
       "      <th>290</th>\n",
       "    </tr>\n",
       "  </thead>\n",
       "  <tbody>\n",
       "    <tr>\n",
       "      <th>count</th>\n",
       "      <td>1247.000000</td>\n",
       "      <td>1247.000000</td>\n",
       "      <td>1247.000000</td>\n",
       "      <td>1247.000000</td>\n",
       "      <td>1247.000000</td>\n",
       "      <td>1247.000000</td>\n",
       "      <td>1247.000000</td>\n",
       "      <td>1247.000000</td>\n",
       "      <td>1247.000000</td>\n",
       "      <td>1247.000000</td>\n",
       "      <td>...</td>\n",
       "      <td>1247.000000</td>\n",
       "      <td>1247.000000</td>\n",
       "      <td>1247.000000</td>\n",
       "      <td>1247.000000</td>\n",
       "      <td>1247.000000</td>\n",
       "      <td>1247.000000</td>\n",
       "      <td>1247.000000</td>\n",
       "      <td>1247.000000</td>\n",
       "      <td>1247.000000</td>\n",
       "      <td>1247.000000</td>\n",
       "    </tr>\n",
       "    <tr>\n",
       "      <th>mean</th>\n",
       "      <td>171.049824</td>\n",
       "      <td>171.867545</td>\n",
       "      <td>168.409612</td>\n",
       "      <td>169.913956</td>\n",
       "      <td>167.291437</td>\n",
       "      <td>168.035343</td>\n",
       "      <td>168.843836</td>\n",
       "      <td>170.470549</td>\n",
       "      <td>173.939796</td>\n",
       "      <td>176.062296</td>\n",
       "      <td>...</td>\n",
       "      <td>169.356235</td>\n",
       "      <td>171.498361</td>\n",
       "      <td>173.201235</td>\n",
       "      <td>174.967779</td>\n",
       "      <td>176.177053</td>\n",
       "      <td>173.290972</td>\n",
       "      <td>171.102992</td>\n",
       "      <td>0.556536</td>\n",
       "      <td>10301.750218</td>\n",
       "      <td>81392.570662</td>\n",
       "    </tr>\n",
       "    <tr>\n",
       "      <th>std</th>\n",
       "      <td>48.280559</td>\n",
       "      <td>45.101603</td>\n",
       "      <td>43.394473</td>\n",
       "      <td>42.578587</td>\n",
       "      <td>42.008907</td>\n",
       "      <td>44.594115</td>\n",
       "      <td>45.758284</td>\n",
       "      <td>49.295307</td>\n",
       "      <td>52.710463</td>\n",
       "      <td>55.500017</td>\n",
       "      <td>...</td>\n",
       "      <td>46.489622</td>\n",
       "      <td>49.363306</td>\n",
       "      <td>52.364113</td>\n",
       "      <td>53.181148</td>\n",
       "      <td>53.970860</td>\n",
       "      <td>51.804259</td>\n",
       "      <td>49.814305</td>\n",
       "      <td>0.496993</td>\n",
       "      <td>4739.876185</td>\n",
       "      <td>1002.462893</td>\n",
       "    </tr>\n",
       "    <tr>\n",
       "      <th>min</th>\n",
       "      <td>111.385442</td>\n",
       "      <td>117.714309</td>\n",
       "      <td>105.732914</td>\n",
       "      <td>115.409726</td>\n",
       "      <td>115.697673</td>\n",
       "      <td>108.680753</td>\n",
       "      <td>99.619695</td>\n",
       "      <td>107.235869</td>\n",
       "      <td>107.589231</td>\n",
       "      <td>107.566092</td>\n",
       "      <td>...</td>\n",
       "      <td>111.992802</td>\n",
       "      <td>107.448113</td>\n",
       "      <td>111.135749</td>\n",
       "      <td>108.460803</td>\n",
       "      <td>117.222031</td>\n",
       "      <td>106.706962</td>\n",
       "      <td>112.606213</td>\n",
       "      <td>0.000000</td>\n",
       "      <td>2573.832861</td>\n",
       "      <td>77122.596943</td>\n",
       "    </tr>\n",
       "    <tr>\n",
       "      <th>25%</th>\n",
       "      <td>137.591289</td>\n",
       "      <td>141.176991</td>\n",
       "      <td>137.302061</td>\n",
       "      <td>138.649414</td>\n",
       "      <td>136.812277</td>\n",
       "      <td>134.264854</td>\n",
       "      <td>134.181396</td>\n",
       "      <td>132.569448</td>\n",
       "      <td>132.994799</td>\n",
       "      <td>133.440306</td>\n",
       "      <td>...</td>\n",
       "      <td>141.180929</td>\n",
       "      <td>141.024324</td>\n",
       "      <td>139.934337</td>\n",
       "      <td>140.936670</td>\n",
       "      <td>140.274628</td>\n",
       "      <td>139.402392</td>\n",
       "      <td>137.759219</td>\n",
       "      <td>0.000000</td>\n",
       "      <td>6880.085254</td>\n",
       "      <td>81224.184204</td>\n",
       "    </tr>\n",
       "    <tr>\n",
       "      <th>50%</th>\n",
       "      <td>157.341068</td>\n",
       "      <td>158.455443</td>\n",
       "      <td>154.999305</td>\n",
       "      <td>157.471201</td>\n",
       "      <td>154.131335</td>\n",
       "      <td>155.400206</td>\n",
       "      <td>155.389156</td>\n",
       "      <td>157.033471</td>\n",
       "      <td>160.352532</td>\n",
       "      <td>159.244028</td>\n",
       "      <td>...</td>\n",
       "      <td>155.235084</td>\n",
       "      <td>156.004115</td>\n",
       "      <td>159.054151</td>\n",
       "      <td>158.478792</td>\n",
       "      <td>159.447725</td>\n",
       "      <td>157.325261</td>\n",
       "      <td>156.842946</td>\n",
       "      <td>1.000000</td>\n",
       "      <td>9690.689833</td>\n",
       "      <td>82028.582397</td>\n",
       "    </tr>\n",
       "    <tr>\n",
       "      <th>75%</th>\n",
       "      <td>191.259214</td>\n",
       "      <td>191.287978</td>\n",
       "      <td>189.014224</td>\n",
       "      <td>191.399839</td>\n",
       "      <td>188.458828</td>\n",
       "      <td>192.284448</td>\n",
       "      <td>192.887307</td>\n",
       "      <td>196.914417</td>\n",
       "      <td>199.469078</td>\n",
       "      <td>205.452919</td>\n",
       "      <td>...</td>\n",
       "      <td>181.515559</td>\n",
       "      <td>186.701043</td>\n",
       "      <td>187.963062</td>\n",
       "      <td>192.757214</td>\n",
       "      <td>193.421916</td>\n",
       "      <td>189.760564</td>\n",
       "      <td>188.958848</td>\n",
       "      <td>1.000000</td>\n",
       "      <td>13793.188905</td>\n",
       "      <td>82076.533815</td>\n",
       "    </tr>\n",
       "    <tr>\n",
       "      <th>max</th>\n",
       "      <td>486.588435</td>\n",
       "      <td>470.686864</td>\n",
       "      <td>459.288018</td>\n",
       "      <td>420.028121</td>\n",
       "      <td>389.533167</td>\n",
       "      <td>367.060624</td>\n",
       "      <td>385.167526</td>\n",
       "      <td>405.239527</td>\n",
       "      <td>409.570464</td>\n",
       "      <td>443.196297</td>\n",
       "      <td>...</td>\n",
       "      <td>466.640074</td>\n",
       "      <td>465.974870</td>\n",
       "      <td>490.411276</td>\n",
       "      <td>492.628822</td>\n",
       "      <td>498.234214</td>\n",
       "      <td>501.537691</td>\n",
       "      <td>510.977622</td>\n",
       "      <td>1.000000</td>\n",
       "      <td>23953.544877</td>\n",
       "      <td>82124.948369</td>\n",
       "    </tr>\n",
       "  </tbody>\n",
       "</table>\n",
       "<p>8 rows × 291 columns</p>\n",
       "</div>"
      ],
      "text/plain": [
       "               0            1            2            3            4    \\\n",
       "count  1247.000000  1247.000000  1247.000000  1247.000000  1247.000000   \n",
       "mean    171.049824   171.867545   168.409612   169.913956   167.291437   \n",
       "std      48.280559    45.101603    43.394473    42.578587    42.008907   \n",
       "min     111.385442   117.714309   105.732914   115.409726   115.697673   \n",
       "25%     137.591289   141.176991   137.302061   138.649414   136.812277   \n",
       "50%     157.341068   158.455443   154.999305   157.471201   154.131335   \n",
       "75%     191.259214   191.287978   189.014224   191.399839   188.458828   \n",
       "max     486.588435   470.686864   459.288018   420.028121   389.533167   \n",
       "\n",
       "               5            6            7            8            9    ...  \\\n",
       "count  1247.000000  1247.000000  1247.000000  1247.000000  1247.000000  ...   \n",
       "mean    168.035343   168.843836   170.470549   173.939796   176.062296  ...   \n",
       "std      44.594115    45.758284    49.295307    52.710463    55.500017  ...   \n",
       "min     108.680753    99.619695   107.235869   107.589231   107.566092  ...   \n",
       "25%     134.264854   134.181396   132.569448   132.994799   133.440306  ...   \n",
       "50%     155.400206   155.389156   157.033471   160.352532   159.244028  ...   \n",
       "75%     192.284448   192.887307   196.914417   199.469078   205.452919  ...   \n",
       "max     367.060624   385.167526   405.239527   409.570464   443.196297  ...   \n",
       "\n",
       "               281          282          283          284          285  \\\n",
       "count  1247.000000  1247.000000  1247.000000  1247.000000  1247.000000   \n",
       "mean    169.356235   171.498361   173.201235   174.967779   176.177053   \n",
       "std      46.489622    49.363306    52.364113    53.181148    53.970860   \n",
       "min     111.992802   107.448113   111.135749   108.460803   117.222031   \n",
       "25%     141.180929   141.024324   139.934337   140.936670   140.274628   \n",
       "50%     155.235084   156.004115   159.054151   158.478792   159.447725   \n",
       "75%     181.515559   186.701043   187.963062   192.757214   193.421916   \n",
       "max     466.640074   465.974870   490.411276   492.628822   498.234214   \n",
       "\n",
       "               286          287          288           289           290  \n",
       "count  1247.000000  1247.000000  1247.000000   1247.000000   1247.000000  \n",
       "mean    173.290972   171.102992     0.556536  10301.750218  81392.570662  \n",
       "std      51.804259    49.814305     0.496993   4739.876185   1002.462893  \n",
       "min     106.706962   112.606213     0.000000   2573.832861  77122.596943  \n",
       "25%     139.402392   137.759219     0.000000   6880.085254  81224.184204  \n",
       "50%     157.325261   156.842946     1.000000   9690.689833  82028.582397  \n",
       "75%     189.760564   188.958848     1.000000  13793.188905  82076.533815  \n",
       "max     501.537691   510.977622     1.000000  23953.544877  82124.948369  \n",
       "\n",
       "[8 rows x 291 columns]"
      ]
     },
     "execution_count": 6,
     "metadata": {},
     "output_type": "execute_result"
    }
   ],
   "source": [
    "train.describe()"
   ]
  },
  {
   "cell_type": "code",
   "execution_count": 7,
   "metadata": {},
   "outputs": [],
   "source": [
    "x_train = train.iloc[:, :-1].values\n",
    "y_train = train.iloc[:, 290].values"
   ]
  },
  {
   "cell_type": "code",
   "execution_count": 8,
   "metadata": {},
   "outputs": [],
   "source": [
    "x_test = test.iloc[:, :-1].values\n",
    "y_test = test.iloc[:, 290].values"
   ]
  },
  {
   "cell_type": "code",
   "execution_count": 9,
   "metadata": {},
   "outputs": [
    {
     "data": {
      "text/plain": [
       "[<matplotlib.lines.Line2D at 0x7f1c444f5b00>]"
      ]
     },
     "execution_count": 9,
     "metadata": {},
     "output_type": "execute_result"
    },
    {
     "data": {
      "image/png": "[encoded data removed]",
      "text/plain": [
       "<Figure size 432x288 with 1 Axes>"
      ]
     },
     "metadata": {
      "needs_background": "light"
     },
     "output_type": "display_data"
    }
   ],
   "source": [
    "plt.plot(x_train[0])"
   ]
  },
  {
   "cell_type": "code",
   "execution_count": 10,
   "metadata": {},
   "outputs": [],
   "source": [
    "scaler = StandardScaler()\n",
    "x_train = scaler.fit_transform(x_train)\n",
    "x_test = scaler.transform(x_test)"
   ]
  },
  {
   "cell_type": "code",
   "execution_count": 11,
   "metadata": {},
   "outputs": [
    {
     "data": {
      "text/plain": [
       "((1247,), (1247, 290))"
      ]
     },
     "execution_count": 11,
     "metadata": {},
     "output_type": "execute_result"
    }
   ],
   "source": [
    "y_train.shape,x_train.shape"
   ]
  },
  {
   "cell_type": "code",
   "execution_count": 12,
   "metadata": {},
   "outputs": [],
   "source": [
    "y_train = y_train.reshape((y_train.shape[0],1))"
   ]
  },
  {
   "cell_type": "code",
   "execution_count": 13,
   "metadata": {},
   "outputs": [
    {
     "data": {
      "text/plain": [
       "'model = xgboost.XGBRegressor(colsample_bytree=0.4,\\n                 gamma=0,                 \\n                 learning_rate=0.07,\\n                 max_depth=3,\\n                 min_child_weight=1.5,\\n                 n_estimators=10000,                                                                    \\n                 reg_alpha=0.75,\\n                 reg_lambda=0.45,\\n                 subsample=0.6,\\n                 seed=42) '"
      ]
     },
     "execution_count": 13,
     "metadata": {},
     "output_type": "execute_result"
    }
   ],
   "source": [
    "'''model = xgboost.XGBRegressor(colsample_bytree=0.4,\n",
    "                 gamma=0,                 \n",
    "                 learning_rate=0.07,\n",
    "                 max_depth=3,\n",
    "                 min_child_weight=1.5,\n",
    "                 n_estimators=10000,                                                                    \n",
    "                 reg_alpha=0.75,\n",
    "                 reg_lambda=0.45,\n",
    "                 subsample=0.6,\n",
    "                 seed=42) '''"
   ]
  },
  {
   "cell_type": "code",
   "execution_count": 14,
   "metadata": {},
   "outputs": [
    {
     "name": "stderr",
     "output_type": "stream",
     "text": [
      "/opt/tljh/user/lib/python3.7/site-packages/sklearn/utils/validation.py:73: DataConversionWarning: A column-vector y was passed when a 1d array was expected. Please change the shape of y to (n_samples, ), for example using ravel().\n",
      "  return f(**kwargs)\n"
     ]
    },
    {
     "data": {
      "text/plain": [
       "SVR(degree=13)"
      ]
     },
     "execution_count": 14,
     "metadata": {},
     "output_type": "execute_result"
    }
   ],
   "source": [
    "model = SVR(gamma='scale',kernel='rbf',degree=13)\n",
    "model.fit(x_train, y_train)"
   ]
  },
  {
   "cell_type": "code",
   "execution_count": 15,
   "metadata": {},
   "outputs": [],
   "source": [
    "#for tuning parameters\n",
    "parameters_for_testing = {\n",
    "    'colsample_bytree':[0.4,0.6],\n",
    "    'gamma':[0,0.03,0.1],\n",
    "    'min_child_weight':[1.5,6,10],\n",
    "    'learning_rate':[0.1,0.07],\n",
    "    'max_depth':[3,5],\n",
    "    'n_estimators':[1000],\n",
    "    'reg_alpha':[1e-5, 1e-2],\n",
    "    'reg_lambda':[1e-5, 1e-2],\n",
    "    'subsample':[0.6,0.95]\n",
    "}\n",
    "\n",
    "                    \n",
    "#xgb_model = xgboost.XGBRegressor(learning_rate =0.1, n_estimators=1000, max_depth=5,\n",
    "#     min_child_weight=1, gamma=0, subsample=0.8, colsample_bytree=0.8, nthread=6, scale_pos_weight=1, seed=27)\n",
    "\n",
    "#gsearch1 = GridSearchCV(estimator = model, param_grid = parameters_for_testing, n_jobs=6,iid=False, verbose=10,scoring='r2')\n",
    "#gsearch1.fit(x_train,y_train)"
   ]
  },
  {
   "cell_type": "code",
   "execution_count": 16,
   "metadata": {},
   "outputs": [
    {
     "data": {
      "text/plain": [
       "\"print (gsearch1.grid_scores_)\\nprint('best params')\\nprint (gsearch1.best_params_)\\nprint('best score')\\nprint (gsearch1.best_score_)\""
      ]
     },
     "execution_count": 16,
     "metadata": {},
     "output_type": "execute_result"
    }
   ],
   "source": [
    "'''print (gsearch1.grid_scores_)\n",
    "print('best params')\n",
    "print (gsearch1.best_params_)\n",
    "print('best score')\n",
    "print (gsearch1.best_score_)'''"
   ]
  },
  {
   "cell_type": "code",
   "execution_count": 17,
   "metadata": {},
   "outputs": [
    {
     "data": {
      "text/plain": [
       "'model = xgboost.XGBRegressor(colsample_bytree=0.4,\\n                 gamma=0,                 \\n                 learning_rate=0.07,\\n                 max_depth=3,\\n                 min_child_weight=1.5,\\n                 n_estimators=10000,                                                                    \\n                 reg_alpha=0.75,\\n                 reg_lambda=0.45,\\n                 subsample=0.6,\\n                 seed=42)'"
      ]
     },
     "execution_count": 17,
     "metadata": {},
     "output_type": "execute_result"
    }
   ],
   "source": [
    "'''model = xgboost.XGBRegressor(colsample_bytree=0.4,\n",
    "                 gamma=0,                 \n",
    "                 learning_rate=0.07,\n",
    "                 max_depth=3,\n",
    "                 min_child_weight=1.5,\n",
    "                 n_estimators=10000,                                                                    \n",
    "                 reg_alpha=0.75,\n",
    "                 reg_lambda=0.45,\n",
    "                 subsample=0.6,\n",
    "                 seed=42)'''"
   ]
  },
  {
   "cell_type": "code",
   "execution_count": 18,
   "metadata": {},
   "outputs": [],
   "source": [
    "#bst = model.fit(x_train,y_train)"
   ]
  },
  {
   "cell_type": "code",
   "execution_count": 19,
   "metadata": {},
   "outputs": [],
   "source": [
    "y_pred = model.predict(x_test)"
   ]
  },
  {
   "cell_type": "code",
   "execution_count": 20,
   "metadata": {},
   "outputs": [
    {
     "data": {
      "text/plain": [
       "-0.4019798371321466"
      ]
     },
     "execution_count": 20,
     "metadata": {},
     "output_type": "execute_result"
    }
   ],
   "source": [
    "metrics.r2_score(y_test, y_pred)"
   ]
  },
  {
   "cell_type": "code",
   "execution_count": 21,
   "metadata": {},
   "outputs": [
    {
     "data": {
      "text/plain": [
       "1180"
      ]
     },
     "execution_count": 21,
     "metadata": {},
     "output_type": "execute_result"
    }
   ],
   "source": [
    "floor(sqrt(mean_squared_error(y_test, y_pred)))"
   ]
  },
  {
   "cell_type": "code",
   "execution_count": 22,
   "metadata": {},
   "outputs": [],
   "source": [
    "max_diff = 0\n",
    "\n",
    "for i in range(y_pred.shape[0]):\n",
    "    if abs(y_pred[i] - y_test[i]) >= max_diff:\n",
    "        max_diff = abs(y_pred[i] - y_test[i])"
   ]
  },
  {
   "cell_type": "code",
   "execution_count": 23,
   "metadata": {},
   "outputs": [
    {
     "data": {
      "text/plain": [
       "4940"
      ]
     },
     "execution_count": 23,
     "metadata": {},
     "output_type": "execute_result"
    }
   ],
   "source": [
    "floor(max_diff)"
   ]
  },
  {
   "cell_type": "code",
   "execution_count": 24,
   "metadata": {},
   "outputs": [],
   "source": [
    "df_repre = pd.DataFrame({'Actual': y_test.flatten(), 'Predicted': y_pred.flatten()})\n",
    "df1 = df_repre.head(10)"
   ]
  },
  {
   "cell_type": "code",
   "execution_count": 25,
   "metadata": {},
   "outputs": [
    {
     "data": {
      "image/png": "[encoded data removed]",
      "text/plain": [
       "<Figure size 1152x720 with 1 Axes>"
      ]
     },
     "metadata": {
      "needs_background": "light"
     },
     "output_type": "display_data"
    }
   ],
   "source": [
    "df1.plot(kind='bar',figsize=(16,10))\n",
    "plt.grid(which='major', linestyle='-', linewidth='0.5', color='green')\n",
    "plt.grid(which='minor', linestyle=':', linewidth='0.5', color='black')\n",
    "plt.show()"
   ]
  },
  {
   "cell_type": "code",
   "execution_count": 26,
   "metadata": {},
   "outputs": [],
   "source": [
    "def precision(prediction,actual,threshold):\n",
    "    return np.count_nonzero((abs(prediction-actual)<threshold))/len(prediction)*100"
   ]
  },
  {
   "cell_type": "code",
   "execution_count": 27,
   "metadata": {},
   "outputs": [],
   "source": [
    "prec = []\n",
    "\n",
    "for i in range(0,10000):\n",
    "    prec.append(precision(y_pred,y_test,i))"
   ]
  },
  {
   "cell_type": "code",
   "execution_count": 28,
   "metadata": {},
   "outputs": [
    {
     "name": "stdout",
     "output_type": "stream",
     "text": [
      "93 50.081300813008134\n"
     ]
    }
   ],
   "source": [
    "for i in range(len(prec)):\n",
    "    if prec[i] > 50:\n",
    "        print(i,(prec[i]))\n",
    "        break"
   ]
  },
  {
   "cell_type": "code",
   "execution_count": 29,
   "metadata": {},
   "outputs": [
    {
     "data": {
      "image/png": "[encoded data removed]",
      "text/plain": [
       "<Figure size 432x288 with 1 Axes>"
      ]
     },
     "metadata": {
      "needs_background": "light"
     },
     "output_type": "display_data"
    }
   ],
   "source": [
    "plt.plot(range(0,10000),prec)\n",
    "plt.xlabel(\"Threshold value\")\n",
    "plt.ylabel(\"Precesion value\")\n",
    "plt.title(\"Precesion vs Threshold plot for testing set\")\n",
    "plt.plot();"
   ]
  },
  {
   "cell_type": "code",
   "execution_count": 30,
   "metadata": {},
   "outputs": [],
   "source": [
    "test_c  = pd.read_csv(\"TestingSet.csv\",header = None)"
   ]
  },
  {
   "cell_type": "code",
   "execution_count": 31,
   "metadata": {},
   "outputs": [],
   "source": [
    "x_test_c = test_c.iloc[:, :-1].values\n",
    "y_test_c = test_c.iloc[:, 290].values"
   ]
  },
  {
   "cell_type": "code",
   "execution_count": 32,
   "metadata": {},
   "outputs": [],
   "source": [
    "y_pred_c = model.predict(x_test_c)"
   ]
  },
  {
   "cell_type": "code",
   "execution_count": 33,
   "metadata": {},
   "outputs": [],
   "source": [
    "prec_cri = []\n",
    "\n",
    "for i in range(0,10000):\n",
    "    prec_cri.append(precision(y_pred_c,y_test_c,i))"
   ]
  },
  {
   "cell_type": "code",
   "execution_count": 34,
   "metadata": {},
   "outputs": [
    {
     "data": {
      "image/png": "[encoded data removed]",
      "text/plain": [
       "<Figure size 432x288 with 1 Axes>"
      ]
     },
     "metadata": {
      "needs_background": "light"
     },
     "output_type": "display_data"
    }
   ],
   "source": [
    "plt.plot(range(0,10000),prec_cri)\n",
    "plt.xlabel(\"Threshold value\")\n",
    "plt.ylabel(\"Precesion value\")\n",
    "plt.title(\"Precesion vs Threshold plot for critical set\")\n",
    "plt.plot();"
   ]
  },
  {
   "cell_type": "code",
   "execution_count": 35,
   "metadata": {},
   "outputs": [
    {
     "name": "stdout",
     "output_type": "stream",
     "text": [
      "100 50.081300813008134\n"
     ]
    }
   ],
   "source": [
    "for i in range(len(prec_cri)):\n",
    "    if prec_cri[i] > 50:\n",
    "        print(i,(prec_cri[i]))\n",
    "        break"
   ]
  },
  {
   "cell_type": "code",
   "execution_count": 36,
   "metadata": {},
   "outputs": [
    {
     "data": {
      "text/plain": [
       "-0.3950089294110588"
      ]
     },
     "execution_count": 36,
     "metadata": {},
     "output_type": "execute_result"
    }
   ],
   "source": [
    "metrics.r2_score(y_test_c, y_pred_c)"
   ]
  },
  {
   "cell_type": "code",
   "execution_count": 37,
   "metadata": {},
   "outputs": [
    {
     "data": {
      "text/plain": [
       "1177"
      ]
     },
     "execution_count": 37,
     "metadata": {},
     "output_type": "execute_result"
    }
   ],
   "source": [
    "floor(sqrt(mean_squared_error(y_test_c, y_pred_c)))"
   ]
  },
  {
   "cell_type": "code",
   "execution_count": 38,
   "metadata": {},
   "outputs": [],
   "source": [
    "#y_pred_c[1]"
   ]
  },
  {
   "cell_type": "code",
   "execution_count": 39,
   "metadata": {},
   "outputs": [],
   "source": [
    "max_diff = 0\n",
    "\n",
    "for i in range(y_pred_c.shape[0]):\n",
    "    if abs(y_pred_c[i] - y_test_c[i]) >= max_diff:\n",
    "        max_diff = abs(y_pred_c[i] - y_test_c[i])"
   ]
  },
  {
   "cell_type": "code",
   "execution_count": 40,
   "metadata": {},
   "outputs": [
    {
     "data": {
      "text/plain": [
       "4930"
      ]
     },
     "execution_count": 40,
     "metadata": {},
     "output_type": "execute_result"
    }
   ],
   "source": [
    "floor(max_diff)"
   ]
  },
  {
   "cell_type": "code",
   "execution_count": null,
   "metadata": {},
   "outputs": [],
   "source": []
  },
  {
   "cell_type": "code",
   "execution_count": null,
   "metadata": {},
   "outputs": [],
   "source": []
  }
 ],
 "metadata": {
  "kernelspec": {
   "display_name": "Python 3",
   "language": "python",
   "name": "python3"
  },
  "language_info": {
   "codemirror_mode": {
    "name": "ipython",
    "version": 3
   },
   "file_extension": ".py",
   "mimetype": "text/x-python",
   "name": "python",
   "nbconvert_exporter": "python",
   "pygments_lexer": "ipython3",
   "version": "3.7.3"
  }
 },
 "nbformat": 4,
 "nbformat_minor": 4
}
