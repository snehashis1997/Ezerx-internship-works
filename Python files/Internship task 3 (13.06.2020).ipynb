{
 "cells": [
  {
   "cell_type": "code",
   "execution_count": 73,
   "metadata": {},
   "outputs": [],
   "source": [
    "import pandas as pd\n",
    "import numpy as np\n",
    "import matplotlib.pyplot as plt\n",
    "from sklearn.linear_model import LinearRegression\n",
    "from sklearn.model_selection import train_test_split\n",
    "from sklearn.preprocessing import PolynomialFeatures\n",
    "from sklearn.preprocessing import StandardScaler\n",
    "from sklearn import metrics"
   ]
  },
  {
   "cell_type": "code",
   "execution_count": 74,
   "metadata": {},
   "outputs": [],
   "source": [
    "df = pd.read_csv(\"MLDataset.csv\",header = None)"
   ]
  },
  {
   "cell_type": "code",
   "execution_count": 75,
   "metadata": {},
   "outputs": [
    {
     "data": {
      "text/plain": [
       "(539, 292)"
      ]
     },
     "execution_count": 75,
     "metadata": {},
     "output_type": "execute_result"
    }
   ],
   "source": [
    "df.shape"
   ]
  },
  {
   "cell_type": "code",
   "execution_count": 76,
   "metadata": {},
   "outputs": [
    {
     "data": {
      "text/html": [
       "<div>\n",
       "<style scoped>\n",
       "    .dataframe tbody tr th:only-of-type {\n",
       "        vertical-align: middle;\n",
       "    }\n",
       "\n",
       "    .dataframe tbody tr th {\n",
       "        vertical-align: top;\n",
       "    }\n",
       "\n",
       "    .dataframe thead th {\n",
       "        text-align: right;\n",
       "    }\n",
       "</style>\n",
       "<table border=\"1\" class=\"dataframe\">\n",
       "  <thead>\n",
       "    <tr style=\"text-align: right;\">\n",
       "      <th></th>\n",
       "      <th>0</th>\n",
       "      <th>1</th>\n",
       "      <th>2</th>\n",
       "      <th>3</th>\n",
       "      <th>4</th>\n",
       "      <th>5</th>\n",
       "      <th>6</th>\n",
       "      <th>7</th>\n",
       "      <th>8</th>\n",
       "      <th>9</th>\n",
       "      <th>...</th>\n",
       "      <th>282</th>\n",
       "      <th>283</th>\n",
       "      <th>284</th>\n",
       "      <th>285</th>\n",
       "      <th>286</th>\n",
       "      <th>287</th>\n",
       "      <th>288</th>\n",
       "      <th>289</th>\n",
       "      <th>290</th>\n",
       "      <th>291</th>\n",
       "    </tr>\n",
       "  </thead>\n",
       "  <tbody>\n",
       "    <tr>\n",
       "      <th>0</th>\n",
       "      <td>270745.735639</td>\n",
       "      <td>280998.396454</td>\n",
       "      <td>280149.347693</td>\n",
       "      <td>261942.032815</td>\n",
       "      <td>283662.230045</td>\n",
       "      <td>276637.717211</td>\n",
       "      <td>293364.887629</td>\n",
       "      <td>291132.799529</td>\n",
       "      <td>292170.664803</td>\n",
       "      <td>318357.434030</td>\n",
       "      <td>...</td>\n",
       "      <td>124186.131348</td>\n",
       "      <td>125000.285401</td>\n",
       "      <td>134768.925894</td>\n",
       "      <td>138450.754246</td>\n",
       "      <td>123661.546811</td>\n",
       "      <td>124878.291612</td>\n",
       "      <td>1.0</td>\n",
       "      <td>3540.747103</td>\n",
       "      <td>5.0</td>\n",
       "      <td>82105.510196</td>\n",
       "    </tr>\n",
       "    <tr>\n",
       "      <th>1</th>\n",
       "      <td>142734.446728</td>\n",
       "      <td>138392.518267</td>\n",
       "      <td>140947.275038</td>\n",
       "      <td>134427.054413</td>\n",
       "      <td>126031.969257</td>\n",
       "      <td>131865.937183</td>\n",
       "      <td>127655.854955</td>\n",
       "      <td>136601.606290</td>\n",
       "      <td>129367.557098</td>\n",
       "      <td>130744.822386</td>\n",
       "      <td>...</td>\n",
       "      <td>140004.696951</td>\n",
       "      <td>130091.339058</td>\n",
       "      <td>147581.937350</td>\n",
       "      <td>131591.250775</td>\n",
       "      <td>144602.806599</td>\n",
       "      <td>130924.311055</td>\n",
       "      <td>0.0</td>\n",
       "      <td>11877.346706</td>\n",
       "      <td>0.0</td>\n",
       "      <td>82050.193758</td>\n",
       "    </tr>\n",
       "    <tr>\n",
       "      <th>2</th>\n",
       "      <td>142763.090142</td>\n",
       "      <td>138110.766082</td>\n",
       "      <td>140354.950113</td>\n",
       "      <td>124568.654649</td>\n",
       "      <td>131936.610114</td>\n",
       "      <td>135362.630909</td>\n",
       "      <td>142391.110436</td>\n",
       "      <td>133353.588977</td>\n",
       "      <td>126797.670749</td>\n",
       "      <td>139759.994619</td>\n",
       "      <td>...</td>\n",
       "      <td>235656.490980</td>\n",
       "      <td>229643.624361</td>\n",
       "      <td>247904.997263</td>\n",
       "      <td>248912.204218</td>\n",
       "      <td>252254.792399</td>\n",
       "      <td>250973.593885</td>\n",
       "      <td>1.0</td>\n",
       "      <td>11412.687496</td>\n",
       "      <td>3.0</td>\n",
       "      <td>81287.287559</td>\n",
       "    </tr>\n",
       "    <tr>\n",
       "      <th>3</th>\n",
       "      <td>238116.617502</td>\n",
       "      <td>238452.867183</td>\n",
       "      <td>228563.955970</td>\n",
       "      <td>232785.293015</td>\n",
       "      <td>221361.734529</td>\n",
       "      <td>237019.050075</td>\n",
       "      <td>229094.969158</td>\n",
       "      <td>239863.860851</td>\n",
       "      <td>225760.578967</td>\n",
       "      <td>249448.686857</td>\n",
       "      <td>...</td>\n",
       "      <td>136851.150456</td>\n",
       "      <td>138149.253988</td>\n",
       "      <td>131169.975566</td>\n",
       "      <td>137364.898738</td>\n",
       "      <td>135386.747360</td>\n",
       "      <td>137311.385863</td>\n",
       "      <td>1.0</td>\n",
       "      <td>3599.978966</td>\n",
       "      <td>3.0</td>\n",
       "      <td>82080.607747</td>\n",
       "    </tr>\n",
       "    <tr>\n",
       "      <th>4</th>\n",
       "      <td>141981.000817</td>\n",
       "      <td>139893.028348</td>\n",
       "      <td>137981.613576</td>\n",
       "      <td>120549.906929</td>\n",
       "      <td>134939.916234</td>\n",
       "      <td>131150.147650</td>\n",
       "      <td>128464.578139</td>\n",
       "      <td>130846.708291</td>\n",
       "      <td>115532.273701</td>\n",
       "      <td>117794.626877</td>\n",
       "      <td>...</td>\n",
       "      <td>132749.445682</td>\n",
       "      <td>139027.461183</td>\n",
       "      <td>133028.646863</td>\n",
       "      <td>130521.114767</td>\n",
       "      <td>130103.539967</td>\n",
       "      <td>138075.818473</td>\n",
       "      <td>1.0</td>\n",
       "      <td>8081.779160</td>\n",
       "      <td>1.0</td>\n",
       "      <td>81221.634419</td>\n",
       "    </tr>\n",
       "  </tbody>\n",
       "</table>\n",
       "<p>5 rows × 292 columns</p>\n",
       "</div>"
      ],
      "text/plain": [
       "             0              1              2              3              4    \\\n",
       "0  270745.735639  280998.396454  280149.347693  261942.032815  283662.230045   \n",
       "1  142734.446728  138392.518267  140947.275038  134427.054413  126031.969257   \n",
       "2  142763.090142  138110.766082  140354.950113  124568.654649  131936.610114   \n",
       "3  238116.617502  238452.867183  228563.955970  232785.293015  221361.734529   \n",
       "4  141981.000817  139893.028348  137981.613576  120549.906929  134939.916234   \n",
       "\n",
       "             5              6              7              8              9    \\\n",
       "0  276637.717211  293364.887629  291132.799529  292170.664803  318357.434030   \n",
       "1  131865.937183  127655.854955  136601.606290  129367.557098  130744.822386   \n",
       "2  135362.630909  142391.110436  133353.588977  126797.670749  139759.994619   \n",
       "3  237019.050075  229094.969158  239863.860851  225760.578967  249448.686857   \n",
       "4  131150.147650  128464.578139  130846.708291  115532.273701  117794.626877   \n",
       "\n",
       "   ...            282            283            284            285  \\\n",
       "0  ...  124186.131348  125000.285401  134768.925894  138450.754246   \n",
       "1  ...  140004.696951  130091.339058  147581.937350  131591.250775   \n",
       "2  ...  235656.490980  229643.624361  247904.997263  248912.204218   \n",
       "3  ...  136851.150456  138149.253988  131169.975566  137364.898738   \n",
       "4  ...  132749.445682  139027.461183  133028.646863  130521.114767   \n",
       "\n",
       "             286            287  288           289  290           291  \n",
       "0  123661.546811  124878.291612  1.0   3540.747103  5.0  82105.510196  \n",
       "1  144602.806599  130924.311055  0.0  11877.346706  0.0  82050.193758  \n",
       "2  252254.792399  250973.593885  1.0  11412.687496  3.0  81287.287559  \n",
       "3  135386.747360  137311.385863  1.0   3599.978966  3.0  82080.607747  \n",
       "4  130103.539967  138075.818473  1.0   8081.779160  1.0  81221.634419  \n",
       "\n",
       "[5 rows x 292 columns]"
      ]
     },
     "execution_count": 76,
     "metadata": {},
     "output_type": "execute_result"
    }
   ],
   "source": [
    "df.head()"
   ]
  },
  {
   "cell_type": "code",
   "execution_count": 77,
   "metadata": {},
   "outputs": [
    {
     "data": {
      "text/html": [
       "<div>\n",
       "<style scoped>\n",
       "    .dataframe tbody tr th:only-of-type {\n",
       "        vertical-align: middle;\n",
       "    }\n",
       "\n",
       "    .dataframe tbody tr th {\n",
       "        vertical-align: top;\n",
       "    }\n",
       "\n",
       "    .dataframe thead th {\n",
       "        text-align: right;\n",
       "    }\n",
       "</style>\n",
       "<table border=\"1\" class=\"dataframe\">\n",
       "  <thead>\n",
       "    <tr style=\"text-align: right;\">\n",
       "      <th></th>\n",
       "      <th>0</th>\n",
       "      <th>1</th>\n",
       "      <th>2</th>\n",
       "      <th>3</th>\n",
       "      <th>4</th>\n",
       "      <th>5</th>\n",
       "      <th>6</th>\n",
       "      <th>7</th>\n",
       "      <th>8</th>\n",
       "      <th>9</th>\n",
       "      <th>...</th>\n",
       "      <th>282</th>\n",
       "      <th>283</th>\n",
       "      <th>284</th>\n",
       "      <th>285</th>\n",
       "      <th>286</th>\n",
       "      <th>287</th>\n",
       "      <th>288</th>\n",
       "      <th>289</th>\n",
       "      <th>290</th>\n",
       "      <th>291</th>\n",
       "    </tr>\n",
       "  </thead>\n",
       "  <tbody>\n",
       "    <tr>\n",
       "      <th>count</th>\n",
       "      <td>539.000000</td>\n",
       "      <td>539.000000</td>\n",
       "      <td>539.000000</td>\n",
       "      <td>539.000000</td>\n",
       "      <td>539.000000</td>\n",
       "      <td>539.000000</td>\n",
       "      <td>539.000000</td>\n",
       "      <td>539.000000</td>\n",
       "      <td>539.000000</td>\n",
       "      <td>539.000000</td>\n",
       "      <td>...</td>\n",
       "      <td>539.000000</td>\n",
       "      <td>539.000000</td>\n",
       "      <td>539.000000</td>\n",
       "      <td>539.000000</td>\n",
       "      <td>539.000000</td>\n",
       "      <td>539.000000</td>\n",
       "      <td>539.000000</td>\n",
       "      <td>539.000000</td>\n",
       "      <td>539.000000</td>\n",
       "      <td>539.000000</td>\n",
       "    </tr>\n",
       "    <tr>\n",
       "      <th>mean</th>\n",
       "      <td>223558.431511</td>\n",
       "      <td>219928.990417</td>\n",
       "      <td>215359.400612</td>\n",
       "      <td>208145.781889</td>\n",
       "      <td>214620.055094</td>\n",
       "      <td>215319.415879</td>\n",
       "      <td>219757.217536</td>\n",
       "      <td>216064.408674</td>\n",
       "      <td>214133.080471</td>\n",
       "      <td>221163.984004</td>\n",
       "      <td>...</td>\n",
       "      <td>222681.668181</td>\n",
       "      <td>227670.536239</td>\n",
       "      <td>235218.414863</td>\n",
       "      <td>235342.500268</td>\n",
       "      <td>234084.003146</td>\n",
       "      <td>228391.413309</td>\n",
       "      <td>0.755102</td>\n",
       "      <td>7719.005144</td>\n",
       "      <td>3.504638</td>\n",
       "      <td>81273.300875</td>\n",
       "    </tr>\n",
       "    <tr>\n",
       "      <th>std</th>\n",
       "      <td>89438.996424</td>\n",
       "      <td>83106.258602</td>\n",
       "      <td>80994.909358</td>\n",
       "      <td>78319.754768</td>\n",
       "      <td>79746.777520</td>\n",
       "      <td>80770.230663</td>\n",
       "      <td>84507.673013</td>\n",
       "      <td>87532.877638</td>\n",
       "      <td>89393.422275</td>\n",
       "      <td>95158.093476</td>\n",
       "      <td>...</td>\n",
       "      <td>91368.080542</td>\n",
       "      <td>96297.082420</td>\n",
       "      <td>100692.840036</td>\n",
       "      <td>102305.398588</td>\n",
       "      <td>100426.219666</td>\n",
       "      <td>94668.545092</td>\n",
       "      <td>0.430426</td>\n",
       "      <td>3949.268193</td>\n",
       "      <td>2.776273</td>\n",
       "      <td>919.432692</td>\n",
       "    </tr>\n",
       "    <tr>\n",
       "      <th>min</th>\n",
       "      <td>121768.093310</td>\n",
       "      <td>123106.712833</td>\n",
       "      <td>122194.239639</td>\n",
       "      <td>117226.976478</td>\n",
       "      <td>123724.156529</td>\n",
       "      <td>124869.961332</td>\n",
       "      <td>122999.308222</td>\n",
       "      <td>118555.971385</td>\n",
       "      <td>113218.459705</td>\n",
       "      <td>113992.600686</td>\n",
       "      <td>...</td>\n",
       "      <td>118583.527982</td>\n",
       "      <td>120712.681717</td>\n",
       "      <td>123319.805783</td>\n",
       "      <td>121424.887412</td>\n",
       "      <td>121853.394859</td>\n",
       "      <td>120803.765790</td>\n",
       "      <td>0.000000</td>\n",
       "      <td>3048.987921</td>\n",
       "      <td>0.000000</td>\n",
       "      <td>77905.677715</td>\n",
       "    </tr>\n",
       "    <tr>\n",
       "      <th>25%</th>\n",
       "      <td>137382.751228</td>\n",
       "      <td>139972.313157</td>\n",
       "      <td>137324.759517</td>\n",
       "      <td>133434.880681</td>\n",
       "      <td>138510.853492</td>\n",
       "      <td>137108.257767</td>\n",
       "      <td>139026.519963</td>\n",
       "      <td>132437.661632</td>\n",
       "      <td>128618.404638</td>\n",
       "      <td>130028.863636</td>\n",
       "      <td>...</td>\n",
       "      <td>136350.470392</td>\n",
       "      <td>136597.181100</td>\n",
       "      <td>139552.013436</td>\n",
       "      <td>137364.079294</td>\n",
       "      <td>138209.988124</td>\n",
       "      <td>138103.136679</td>\n",
       "      <td>1.000000</td>\n",
       "      <td>4504.057342</td>\n",
       "      <td>1.000000</td>\n",
       "      <td>81211.207299</td>\n",
       "    </tr>\n",
       "    <tr>\n",
       "      <th>50%</th>\n",
       "      <td>209506.844912</td>\n",
       "      <td>209979.290326</td>\n",
       "      <td>199581.800837</td>\n",
       "      <td>192218.540024</td>\n",
       "      <td>204345.486713</td>\n",
       "      <td>204024.906716</td>\n",
       "      <td>209073.965446</td>\n",
       "      <td>203434.627480</td>\n",
       "      <td>199929.908936</td>\n",
       "      <td>205786.296699</td>\n",
       "      <td>...</td>\n",
       "      <td>199736.190006</td>\n",
       "      <td>205353.652501</td>\n",
       "      <td>210923.317771</td>\n",
       "      <td>215393.390607</td>\n",
       "      <td>213118.107446</td>\n",
       "      <td>208299.272528</td>\n",
       "      <td>1.000000</td>\n",
       "      <td>8055.299740</td>\n",
       "      <td>3.000000</td>\n",
       "      <td>81274.951555</td>\n",
       "    </tr>\n",
       "    <tr>\n",
       "      <th>75%</th>\n",
       "      <td>297691.639056</td>\n",
       "      <td>289275.871941</td>\n",
       "      <td>284419.458531</td>\n",
       "      <td>272353.000654</td>\n",
       "      <td>280400.543079</td>\n",
       "      <td>280536.763685</td>\n",
       "      <td>291137.097942</td>\n",
       "      <td>286727.769398</td>\n",
       "      <td>285234.088411</td>\n",
       "      <td>300786.589295</td>\n",
       "      <td>...</td>\n",
       "      <td>299710.973196</td>\n",
       "      <td>307390.181290</td>\n",
       "      <td>319172.030087</td>\n",
       "      <td>320897.436940</td>\n",
       "      <td>318833.235035</td>\n",
       "      <td>309542.853933</td>\n",
       "      <td>1.000000</td>\n",
       "      <td>8112.345013</td>\n",
       "      <td>5.000000</td>\n",
       "      <td>82062.439551</td>\n",
       "    </tr>\n",
       "    <tr>\n",
       "      <th>max</th>\n",
       "      <td>413523.162270</td>\n",
       "      <td>385562.392411</td>\n",
       "      <td>378650.397399</td>\n",
       "      <td>374840.070196</td>\n",
       "      <td>386039.373002</td>\n",
       "      <td>393125.030898</td>\n",
       "      <td>405511.165209</td>\n",
       "      <td>423494.958550</td>\n",
       "      <td>415626.511302</td>\n",
       "      <td>436048.076186</td>\n",
       "      <td>...</td>\n",
       "      <td>432389.519493</td>\n",
       "      <td>451472.276278</td>\n",
       "      <td>463889.526687</td>\n",
       "      <td>462325.485191</td>\n",
       "      <td>446550.915486</td>\n",
       "      <td>427847.472157</td>\n",
       "      <td>1.000000</td>\n",
       "      <td>20911.505902</td>\n",
       "      <td>9.000000</td>\n",
       "      <td>82124.969690</td>\n",
       "    </tr>\n",
       "  </tbody>\n",
       "</table>\n",
       "<p>8 rows × 292 columns</p>\n",
       "</div>"
      ],
      "text/plain": [
       "                 0              1              2              3    \\\n",
       "count     539.000000     539.000000     539.000000     539.000000   \n",
       "mean   223558.431511  219928.990417  215359.400612  208145.781889   \n",
       "std     89438.996424   83106.258602   80994.909358   78319.754768   \n",
       "min    121768.093310  123106.712833  122194.239639  117226.976478   \n",
       "25%    137382.751228  139972.313157  137324.759517  133434.880681   \n",
       "50%    209506.844912  209979.290326  199581.800837  192218.540024   \n",
       "75%    297691.639056  289275.871941  284419.458531  272353.000654   \n",
       "max    413523.162270  385562.392411  378650.397399  374840.070196   \n",
       "\n",
       "                 4              5              6              7    \\\n",
       "count     539.000000     539.000000     539.000000     539.000000   \n",
       "mean   214620.055094  215319.415879  219757.217536  216064.408674   \n",
       "std     79746.777520   80770.230663   84507.673013   87532.877638   \n",
       "min    123724.156529  124869.961332  122999.308222  118555.971385   \n",
       "25%    138510.853492  137108.257767  139026.519963  132437.661632   \n",
       "50%    204345.486713  204024.906716  209073.965446  203434.627480   \n",
       "75%    280400.543079  280536.763685  291137.097942  286727.769398   \n",
       "max    386039.373002  393125.030898  405511.165209  423494.958550   \n",
       "\n",
       "                 8              9    ...            282            283  \\\n",
       "count     539.000000     539.000000  ...     539.000000     539.000000   \n",
       "mean   214133.080471  221163.984004  ...  222681.668181  227670.536239   \n",
       "std     89393.422275   95158.093476  ...   91368.080542   96297.082420   \n",
       "min    113218.459705  113992.600686  ...  118583.527982  120712.681717   \n",
       "25%    128618.404638  130028.863636  ...  136350.470392  136597.181100   \n",
       "50%    199929.908936  205786.296699  ...  199736.190006  205353.652501   \n",
       "75%    285234.088411  300786.589295  ...  299710.973196  307390.181290   \n",
       "max    415626.511302  436048.076186  ...  432389.519493  451472.276278   \n",
       "\n",
       "                 284            285            286            287         288  \\\n",
       "count     539.000000     539.000000     539.000000     539.000000  539.000000   \n",
       "mean   235218.414863  235342.500268  234084.003146  228391.413309    0.755102   \n",
       "std    100692.840036  102305.398588  100426.219666   94668.545092    0.430426   \n",
       "min    123319.805783  121424.887412  121853.394859  120803.765790    0.000000   \n",
       "25%    139552.013436  137364.079294  138209.988124  138103.136679    1.000000   \n",
       "50%    210923.317771  215393.390607  213118.107446  208299.272528    1.000000   \n",
       "75%    319172.030087  320897.436940  318833.235035  309542.853933    1.000000   \n",
       "max    463889.526687  462325.485191  446550.915486  427847.472157    1.000000   \n",
       "\n",
       "                289         290           291  \n",
       "count    539.000000  539.000000    539.000000  \n",
       "mean    7719.005144    3.504638  81273.300875  \n",
       "std     3949.268193    2.776273    919.432692  \n",
       "min     3048.987921    0.000000  77905.677715  \n",
       "25%     4504.057342    1.000000  81211.207299  \n",
       "50%     8055.299740    3.000000  81274.951555  \n",
       "75%     8112.345013    5.000000  82062.439551  \n",
       "max    20911.505902    9.000000  82124.969690  \n",
       "\n",
       "[8 rows x 292 columns]"
      ]
     },
     "execution_count": 77,
     "metadata": {},
     "output_type": "execute_result"
    }
   ],
   "source": [
    "df.describe()"
   ]
  },
  {
   "cell_type": "code",
   "execution_count": 78,
   "metadata": {},
   "outputs": [
    {
     "data": {
      "text/plain": [
       "(539, 292)"
      ]
     },
     "execution_count": 78,
     "metadata": {},
     "output_type": "execute_result"
    }
   ],
   "source": [
    "df.shape"
   ]
  },
  {
   "cell_type": "code",
   "execution_count": 79,
   "metadata": {},
   "outputs": [],
   "source": [
    "x = df.iloc[:, :-1].values\n",
    "y = df.iloc[:, 291].values"
   ]
  },
  {
   "cell_type": "code",
   "execution_count": 80,
   "metadata": {},
   "outputs": [
    {
     "data": {
      "text/plain": [
       "((539,), (539, 291))"
      ]
     },
     "execution_count": 80,
     "metadata": {},
     "output_type": "execute_result"
    }
   ],
   "source": [
    "y.shape,x.shape"
   ]
  },
  {
   "cell_type": "markdown",
   "metadata": {},
   "source": [
    "# with full data"
   ]
  },
  {
   "cell_type": "code",
   "execution_count": 81,
   "metadata": {},
   "outputs": [],
   "source": [
    "x_train, x_test, y_train, y_test = train_test_split(x, y, test_size=0.2, random_state=0)"
   ]
  },
  {
   "cell_type": "code",
   "execution_count": 82,
   "metadata": {},
   "outputs": [
    {
     "data": {
      "text/plain": [
       "(431,)"
      ]
     },
     "execution_count": 82,
     "metadata": {},
     "output_type": "execute_result"
    }
   ],
   "source": [
    "y_train.shape"
   ]
  },
  {
   "cell_type": "code",
   "execution_count": 83,
   "metadata": {},
   "outputs": [],
   "source": [
    "y_train = y_train.reshape((431,1))"
   ]
  },
  {
   "cell_type": "code",
   "execution_count": 84,
   "metadata": {},
   "outputs": [
    {
     "data": {
      "text/plain": [
       "LinearRegression()"
      ]
     },
     "execution_count": 84,
     "metadata": {},
     "output_type": "execute_result"
    }
   ],
   "source": [
    "reg = LinearRegression()\n",
    "reg.fit(x_train, y_train)"
   ]
  },
  {
   "cell_type": "code",
   "execution_count": 85,
   "metadata": {},
   "outputs": [],
   "source": [
    "#y_test"
   ]
  },
  {
   "cell_type": "code",
   "execution_count": 86,
   "metadata": {},
   "outputs": [],
   "source": [
    "y_pred = reg.predict(x_test)\n",
    "y_pred_whole = reg.predict(x)"
   ]
  },
  {
   "cell_type": "code",
   "execution_count": 87,
   "metadata": {},
   "outputs": [
    {
     "data": {
      "text/plain": [
       "0.7527402172004561"
      ]
     },
     "execution_count": 87,
     "metadata": {},
     "output_type": "execute_result"
    }
   ],
   "source": [
    "metrics.r2_score(y, y_pred_whole)"
   ]
  },
  {
   "cell_type": "code",
   "execution_count": 88,
   "metadata": {},
   "outputs": [],
   "source": [
    "df_repre = pd.DataFrame({'Actual': y_test.flatten(), 'Predicted': y_pred.flatten()})"
   ]
  },
  {
   "cell_type": "markdown",
   "metadata": {},
   "source": [
    "# Actual vs Predicted"
   ]
  },
  {
   "cell_type": "code",
   "execution_count": 89,
   "metadata": {},
   "outputs": [
    {
     "data": {
      "image/png": "[encoded data removed]",
      "text/plain": [
       "<Figure size 1152x720 with 1 Axes>"
      ]
     },
     "metadata": {
      "needs_background": "light"
     },
     "output_type": "display_data"
    }
   ],
   "source": [
    "df1 = df_repre.head(10)\n",
    "df1.plot(kind='bar',figsize=(16,10))\n",
    "plt.grid(which='major', linestyle='-', linewidth='0.5', color='green')\n",
    "plt.ylabel(\"Salary\")\n",
    "plt.xlabel(\"Test case no\")\n",
    "plt.title(\"with out dropping colms\")\n",
    "plt.grid(which='minor', linestyle=':', linewidth='0.5', color='black')\n",
    "plt.show()"
   ]
  },
  {
   "cell_type": "code",
   "execution_count": 90,
   "metadata": {},
   "outputs": [
    {
     "name": "stdout",
     "output_type": "stream",
     "text": [
      "Mean Absolute Error: 732.564878543899\n",
      "Mean Squared Error: 758232.3134321327\n",
      "Root Mean Squared Error: 870.7653607213213\n"
     ]
    }
   ],
   "source": [
    "print('Mean Absolute Error:', metrics.mean_absolute_error(y_test, y_pred))  \n",
    "print('Mean Squared Error:', metrics.mean_squared_error(y_test, y_pred))  \n",
    "print('Root Mean Squared Error:', np.sqrt(metrics.mean_squared_error(y_test, y_pred)))"
   ]
  },
  {
   "cell_type": "markdown",
   "metadata": {},
   "source": [
    "# Remove uncorrelated colm"
   ]
  },
  {
   "cell_type": "code",
   "execution_count": 91,
   "metadata": {},
   "outputs": [],
   "source": [
    "# Create correlation matrix\n",
    "corr_matrix = df.corr().abs()\n",
    "\n",
    "# Select upper triangle of correlation matrix\n",
    "upper = corr_matrix.where(np.triu(np.ones(corr_matrix.shape), k=1).astype(np.bool))\n",
    "\n",
    "# Find index of feature columns with correlation greater than 0.95\n",
    "to_drop = [column for column in upper.columns if any(upper[column] > 0.95)]\n",
    "# Drop features \n",
    "df_drop = df.drop(df[to_drop], axis=1)"
   ]
  },
  {
   "cell_type": "code",
   "execution_count": 92,
   "metadata": {},
   "outputs": [],
   "source": [
    "x = df_drop.iloc[:, :-1].values\n",
    "y = df_drop.iloc[:, 150].values"
   ]
  },
  {
   "cell_type": "code",
   "execution_count": 93,
   "metadata": {},
   "outputs": [
    {
     "data": {
      "text/plain": [
       "((539,), (539, 150))"
      ]
     },
     "execution_count": 93,
     "metadata": {},
     "output_type": "execute_result"
    }
   ],
   "source": [
    "y.shape,x.shape"
   ]
  },
  {
   "cell_type": "code",
   "execution_count": 94,
   "metadata": {},
   "outputs": [],
   "source": [
    "x_train, x_test, y_train, y_test = train_test_split(x, y, test_size=0.2, random_state=0)"
   ]
  },
  {
   "cell_type": "code",
   "execution_count": 95,
   "metadata": {},
   "outputs": [],
   "source": [
    "y_train = y_train.reshape((431,1))"
   ]
  },
  {
   "cell_type": "code",
   "execution_count": 96,
   "metadata": {},
   "outputs": [
    {
     "data": {
      "text/plain": [
       "LinearRegression()"
      ]
     },
     "execution_count": 96,
     "metadata": {},
     "output_type": "execute_result"
    }
   ],
   "source": [
    "reg = LinearRegression()\n",
    "reg.fit(x_train, y_train)"
   ]
  },
  {
   "cell_type": "code",
   "execution_count": 97,
   "metadata": {},
   "outputs": [],
   "source": [
    "y_pred_c = reg.predict(x_test)"
   ]
  },
  {
   "cell_type": "code",
   "execution_count": 98,
   "metadata": {},
   "outputs": [
    {
     "data": {
      "text/plain": [
       "0.5050302901193606"
      ]
     },
     "execution_count": 98,
     "metadata": {},
     "output_type": "execute_result"
    }
   ],
   "source": [
    "metrics.r2_score(y_test, y_pred_c)"
   ]
  },
  {
   "cell_type": "code",
   "execution_count": 99,
   "metadata": {},
   "outputs": [],
   "source": [
    "df_repre = pd.DataFrame({'Actual': y_test.flatten(), 'Predicted': y_pred.flatten()})"
   ]
  },
  {
   "cell_type": "markdown",
   "metadata": {},
   "source": [
    "# Actual vs Predicted after removing uncorrelated colms"
   ]
  },
  {
   "cell_type": "code",
   "execution_count": 38,
   "metadata": {},
   "outputs": [
    {
     "data": {
      "image/png": "[encoded data removed]",
      "text/plain": [
       "<Figure size 1152x720 with 1 Axes>"
      ]
     },
     "metadata": {
      "needs_background": "light"
     },
     "output_type": "display_data"
    }
   ],
   "source": [
    "df1 = df_repre.head(10)\n",
    "df1.plot(kind='bar',figsize=(16,10))\n",
    "plt.title(\"with dropping some colm : corr> 0.95\")\n",
    "plt.grid(which='major', linestyle='-', linewidth='0.5', color='green')\n",
    "plt.grid(which='minor', linestyle=':', linewidth='0.5', color='black')\n",
    "plt.show()"
   ]
  },
  {
   "cell_type": "code",
   "execution_count": 28,
   "metadata": {},
   "outputs": [
    {
     "name": "stdout",
     "output_type": "stream",
     "text": [
      "Mean Absolute Error: 732.564878543899\n",
      "Mean Squared Error: 758232.3134321327\n",
      "Root Mean Squared Error: 870.7653607213213\n"
     ]
    }
   ],
   "source": [
    "print('Mean Absolute Error:', metrics.mean_absolute_error(y_test, y_pred))  \n",
    "print('Mean Squared Error:', metrics.mean_squared_error(y_test, y_pred))  \n",
    "print('Root Mean Squared Error:', np.sqrt(metrics.mean_squared_error(y_test, y_pred)))"
   ]
  },
  {
   "cell_type": "code",
   "execution_count": 29,
   "metadata": {},
   "outputs": [],
   "source": [
    "df_repre = pd.DataFrame({'df_drop': y_pred_c.flatten(), 'df': y_pred.flatten()})"
   ]
  },
  {
   "cell_type": "markdown",
   "metadata": {},
   "source": [
    "# Comparission of predicted y values between df_drop and df"
   ]
  },
  {
   "cell_type": "code",
   "execution_count": 30,
   "metadata": {},
   "outputs": [
    {
     "data": {
      "image/png": "[encoded data removed]",
      "text/plain": [
       "<Figure size 1152x720 with 1 Axes>"
      ]
     },
     "metadata": {
      "needs_background": "light"
     },
     "output_type": "display_data"
    }
   ],
   "source": [
    "df1 = df_repre.head(10)\n",
    "df1.plot(kind='bar',figsize=(16,10))\n",
    "plt.ylabel(\"Salary\")\n",
    "plt.xlabel(\"Test case no\")\n",
    "plt.grid(which='major', linestyle='-', linewidth='0.5', color='green')\n",
    "plt.grid(which='minor', linestyle=':', linewidth='0.5', color='black')\n",
    "plt.show()"
   ]
  },
  {
   "cell_type": "markdown",
   "metadata": {},
   "source": [
    "# polynomial features extraction"
   ]
  },
  {
   "cell_type": "code",
   "execution_count": 31,
   "metadata": {},
   "outputs": [],
   "source": [
    "x = PolynomialFeatures(degree=2, include_bias=False).fit_transform(x)"
   ]
  },
  {
   "cell_type": "code",
   "execution_count": 32,
   "metadata": {},
   "outputs": [],
   "source": [
    "x_train, x_test, y_train, y_test = train_test_split(x, y, test_size=0.2, random_state=0)"
   ]
  },
  {
   "cell_type": "code",
   "execution_count": 33,
   "metadata": {},
   "outputs": [],
   "source": [
    "y_train = y_train.reshape((431,1))"
   ]
  },
  {
   "cell_type": "code",
   "execution_count": 34,
   "metadata": {},
   "outputs": [
    {
     "data": {
      "text/plain": [
       "LinearRegression()"
      ]
     },
     "execution_count": 34,
     "metadata": {},
     "output_type": "execute_result"
    }
   ],
   "source": [
    "reg = LinearRegression()\n",
    "reg.fit(x_train, y_train)"
   ]
  },
  {
   "cell_type": "code",
   "execution_count": 35,
   "metadata": {},
   "outputs": [],
   "source": [
    "y_pred_p = reg.predict(x_test)"
   ]
  },
  {
   "cell_type": "code",
   "execution_count": 36,
   "metadata": {},
   "outputs": [],
   "source": [
    "df_repre = pd.DataFrame({'Actual': y_test.flatten(),'df_drop': y_pred_p.flatten(), 'df': y_pred.flatten(), 'df_p': y_pred_p.flatten()})"
   ]
  },
  {
   "cell_type": "markdown",
   "metadata": {},
   "source": [
    "# Comparission of Predicted data  between df vs df_drop vs polynomia feature extracted df_p"
   ]
  },
  {
   "cell_type": "code",
   "execution_count": 37,
   "metadata": {},
   "outputs": [
    {
     "data": {
      "image/png": "[encoded data removed]",
      "text/plain": [
       "<Figure size 1152x720 with 1 Axes>"
      ]
     },
     "metadata": {
      "needs_background": "light"
     },
     "output_type": "display_data"
    }
   ],
   "source": [
    "df1 = df_repre.head(10)\n",
    "df1.plot(kind='bar',figsize=(16,10))\n",
    "plt.grid(which='major', linestyle='-', linewidth='0.5', color='green')\n",
    "plt.grid(which='minor', linestyle=':', linewidth='0.5', color='black')\n",
    "plt.show()"
   ]
  },
  {
   "cell_type": "markdown",
   "metadata": {},
   "source": [
    "# Linear regression using numpy"
   ]
  },
  {
   "cell_type": "code",
   "execution_count": null,
   "metadata": {},
   "outputs": [],
   "source": []
  },
  {
   "cell_type": "code",
   "execution_count": null,
   "metadata": {},
   "outputs": [],
   "source": []
  },
  {
   "cell_type": "code",
   "execution_count": null,
   "metadata": {},
   "outputs": [],
   "source": []
  },
  {
   "cell_type": "code",
   "execution_count": null,
   "metadata": {},
   "outputs": [],
   "source": []
  },
  {
   "cell_type": "code",
   "execution_count": null,
   "metadata": {},
   "outputs": [],
   "source": []
  },
  {
   "cell_type": "code",
   "execution_count": null,
   "metadata": {},
   "outputs": [],
   "source": []
  }
 ],
 "metadata": {
  "kernelspec": {
   "display_name": "Python 3",
   "language": "python",
   "name": "python3"
  },
  "language_info": {
   "codemirror_mode": {
    "name": "ipython",
    "version": 3
   },
   "file_extension": ".py",
   "mimetype": "text/x-python",
   "name": "python",
   "nbconvert_exporter": "python",
   "pygments_lexer": "ipython3",
   "version": "3.7.3"
  }
 },
 "nbformat": 4,
 "nbformat_minor": 4
}
