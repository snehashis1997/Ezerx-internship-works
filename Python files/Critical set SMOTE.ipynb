{
 "cells": [
  {
   "cell_type": "code",
   "execution_count": 467,
   "metadata": {},
   "outputs": [],
   "source": [
    "import pandas as pd\n",
    "import numpy as np\n",
    "from math import floor\n",
    "import matplotlib.pyplot as plt\n",
    "from sklearn.linear_model import LinearRegression,LogisticRegression,SGDRegressor,Lasso\n",
    "from sklearn.ensemble import RandomForestRegressor\n",
    "from sklearn.svm import SVR\n",
    "import cases\n",
    "from sklearn.tree import DecisionTreeRegressor\n",
    "from sklearn import tree\n",
    "from sklearn.model_selection import train_test_split\n",
    "from sklearn.preprocessing import PolynomialFeatures\n",
    "from sklearn.preprocessing import StandardScaler,MinMaxScaler\n",
    "from sklearn import metrics\n",
    "import xgboost\n",
    "from sklearn.model_selection import GridSearchCV\n",
    "from sklearn.metrics import mean_squared_error\n",
    "from math import sqrt\n",
    "from sklearn.metrics import accuracy_score\n",
    "from sklearn.linear_model import LinearRegression"
   ]
  },
  {
   "cell_type": "code",
   "execution_count": 468,
   "metadata": {},
   "outputs": [],
   "source": [
    "import seaborn as sns"
   ]
  },
  {
   "cell_type": "code",
   "execution_count": 469,
   "metadata": {},
   "outputs": [],
   "source": [
    "train1 = pd.read_csv(\"TrainingSet1.data\",header = None)\n",
    "train2 = pd.read_csv(\"TrainingSet2.data\",header = None)\n",
    "train = pd.read_csv(\"TrainingSet3.data\",header = None)\n",
    "train4 = pd.read_csv(\"TrainingSet4.data\",header = None)\n",
    "\n",
    "#train = pd.concat([train1, train2, train3, train4])"
   ]
  },
  {
   "cell_type": "code",
   "execution_count": null,
   "metadata": {},
   "outputs": [],
   "source": [
    "test1  = pd.read_csv(\"TestingSet1.data\",header = None)\n",
    "test2  = pd.read_csv(\"TestingSet2.data\",header = None)\n",
    "test  = pd.read_csv(\"TestingSet3.data\",header = None)\n",
    "test4  = pd.read_csv(\"TestingSet4.data\",header = None)\n",
    "\n",
    "#test = pd.concat([test1, test2, test3, test4])"
   ]
  },
  {
   "cell_type": "code",
   "execution_count": null,
   "metadata": {},
   "outputs": [],
   "source": [
    "critical1 = pd.read_csv(\"CriticalSet1.data\",header=None)\n",
    "critical2 = pd.read_csv(\"CriticalSet2.data\",header=None)\n",
    "critical = pd.read_csv(\"CriticalSet3.data\",header=None)\n",
    "critical4 = pd.read_csv(\"CriticalSet4.data\",header=None)\n",
    "\n",
    "#critical = pd.concat([critical1, critical2, critical3, critical4])"
   ]
  },
  {
   "cell_type": "code",
   "execution_count": null,
   "metadata": {},
   "outputs": [],
   "source": [
    "train.shape,test.shape,critical.shape"
   ]
  },
  {
   "cell_type": "code",
   "execution_count": null,
   "metadata": {},
   "outputs": [],
   "source": [
    "x_train = train.iloc[:, :-1].values\n",
    "y_train = train.iloc[:, 290].values"
   ]
  },
  {
   "cell_type": "code",
   "execution_count": null,
   "metadata": {},
   "outputs": [],
   "source": [
    "x_train.shape,y_train.shape"
   ]
  },
  {
   "cell_type": "code",
   "execution_count": null,
   "metadata": {},
   "outputs": [],
   "source": [
    "x_test = test.iloc[:, :-1].values\n",
    "y_test = test.iloc[:, 290].values"
   ]
  },
  {
   "cell_type": "code",
   "execution_count": null,
   "metadata": {},
   "outputs": [],
   "source": [
    "x_cri = critical.iloc[:, :-1].values\n",
    "y_cri = critical.iloc[:, 290].values"
   ]
  },
  {
   "cell_type": "code",
   "execution_count": null,
   "metadata": {},
   "outputs": [],
   "source": [
    "plt.figure()\n",
    "plt.plot(x_train[0])\n",
    "plt.ylim([0,1000])\n",
    "\n",
    "plt.figure()\n",
    "plt.plot(x_test[0])\n",
    "plt.ylim([0,1000]);"
   ]
  },
  {
   "cell_type": "code",
   "execution_count": null,
   "metadata": {},
   "outputs": [],
   "source": [
    "scaler = MinMaxScaler()\n",
    "x_train = scaler.fit_transform(x_train)\n",
    "x_test = scaler.transform(x_test)\n",
    "x_cri = scaler.transform(x_cri)"
   ]
  },
  {
   "cell_type": "code",
   "execution_count": null,
   "metadata": {},
   "outputs": [],
   "source": [
    "plt.figure()\n",
    "plt.plot(x_train[0])\n",
    "\n",
    "plt.figure()\n",
    "plt.plot(x_test[0]);"
   ]
  },
  {
   "cell_type": "code",
   "execution_count": null,
   "metadata": {},
   "outputs": [],
   "source": [
    "sns.distplot(y_train);"
   ]
  },
  {
   "cell_type": "code",
   "execution_count": null,
   "metadata": {},
   "outputs": [],
   "source": [
    "sns.distplot(y_cri);"
   ]
  },
  {
   "cell_type": "code",
   "execution_count": null,
   "metadata": {},
   "outputs": [],
   "source": [
    "'''for i in range(y_train.shape[0]):\n",
    "    \n",
    "    if y_train[i] >= 80624:\n",
    "        y_train[i] = 2\n",
    "        \n",
    "    elif y_train[i] > 78000 and y_train[i] < 80500:\n",
    "        y_train[i] = 1\n",
    "        \n",
    "    else:\n",
    "        y_train[i] = 0'''"
   ]
  },
  {
   "cell_type": "code",
   "execution_count": null,
   "metadata": {},
   "outputs": [],
   "source": [
    "'''for i in range(y_test.shape[0]):\n",
    "    \n",
    "    if y_test[i] >= 80624:\n",
    "        y_test[i] = 2\n",
    "        \n",
    "    elif y_test[i] >= 78000 and y_test[i] < 80500:\n",
    "        y_test[i] = 1\n",
    "        \n",
    "    else:\n",
    "        y_test[i] = 0'''"
   ]
  },
  {
   "cell_type": "code",
   "execution_count": null,
   "metadata": {},
   "outputs": [],
   "source": [
    "'''for i in range(y_cri.shape[0]):\n",
    "    \n",
    "    if y_cri[i] >= 80624:\n",
    "        y_cri[i] = 2\n",
    "        \n",
    "    elif y_cri[i] >= 78000 and y_cri[i] < 80500:\n",
    "        y_cri[i] = 1\n",
    "        \n",
    "    else:\n",
    "        y_cri[i] = 0'''"
   ]
  },
  {
   "cell_type": "code",
   "execution_count": null,
   "metadata": {},
   "outputs": [],
   "source": [
    "sns.countplot(y_train);"
   ]
  },
  {
   "cell_type": "code",
   "execution_count": null,
   "metadata": {},
   "outputs": [],
   "source": [
    "sns.countplot(y_test);"
   ]
  },
  {
   "cell_type": "code",
   "execution_count": null,
   "metadata": {},
   "outputs": [],
   "source": [
    "sns.countplot(y_cri);"
   ]
  },
  {
   "cell_type": "code",
   "execution_count": null,
   "metadata": {},
   "outputs": [],
   "source": [
    "from imblearn.over_sampling import SMOTE\n",
    "smote = SMOTE()\n",
    "x_train_sm, y_train_sm = smote.fit_sample(x_train, y_train)\n",
    "x_test_sm, y_test_sm = smote.fit_sample(x_train, y_train)"
   ]
  },
  {
   "cell_type": "code",
   "execution_count": null,
   "metadata": {},
   "outputs": [],
   "source": [
    "sns.countplot(y_train_sm)\n",
    "plt.title(\"After SMOTE train set\");"
   ]
  },
  {
   "cell_type": "code",
   "execution_count": null,
   "metadata": {},
   "outputs": [],
   "source": [
    "sns.countplot(y_test_sm)\n",
    "plt.title(\"After SMOTE test set\");"
   ]
  },
  {
   "cell_type": "code",
   "execution_count": null,
   "metadata": {},
   "outputs": [],
   "source": [
    "from sklearn.ensemble import RandomForestClassifier\n",
    "from xgboost import XGBClassifier\n",
    "\n",
    "#clf2 = RandomForestClassifier(max_depth = 30, random_state=0)\n",
    "#clf2.fit(x_train_sm, y_train_sm)"
   ]
  },
  {
   "cell_type": "code",
   "execution_count": null,
   "metadata": {},
   "outputs": [],
   "source": [
    "clf3 = XGBClassifier(learning_rate=0.1, n_estimators=200, max_depth=30,\n",
    "                     min_child_weight=3, gamma=0.2, subsample=0.6,\n",
    "                     colsample_bytree=1.0,nthread=4,seed=27)\n",
    "\n",
    "clf3.fit(x_train_sm, y_train_sm)"
   ]
  },
  {
   "cell_type": "code",
   "execution_count": null,
   "metadata": {},
   "outputs": [],
   "source": [
    "y_pred = clf3.predict(x_test)"
   ]
  },
  {
   "cell_type": "code",
   "execution_count": null,
   "metadata": {},
   "outputs": [],
   "source": [
    "from sklearn.metrics import classification_report"
   ]
  },
  {
   "cell_type": "code",
   "execution_count": null,
   "metadata": {},
   "outputs": [],
   "source": [
    "print(classification_report(y_test, y_pred))"
   ]
  },
  {
   "cell_type": "raw",
   "metadata": {},
   "source": [
    "# Dataset 1  => Bin : 30, Threshold : 13.5, Width : 2.6\n",
    "Dataset 2  => Bin : 30, Threshold : 110, Width : 25\n",
    "Dataset 3  => Bin : 20, Threshold : 5600, Width : 5000\n",
    "Dataset 4  => Bin : 30, Threshold : 42800, Width : 5500"
   ]
  },
  {
   "cell_type": "code",
   "execution_count": null,
   "metadata": {},
   "outputs": [],
   "source": [
    "cases.maxdiff(y_pred, y_test),cases.precision(y_pred,y_test,threshold=42800)"
   ]
  },
  {
   "cell_type": "code",
   "execution_count": null,
   "metadata": {},
   "outputs": [],
   "source": [
    "cases.caseFigure(y_pred,y_test,threshold=42800,xbin=20,width=5500,title='xgb test 4')"
   ]
  },
  {
   "cell_type": "code",
   "execution_count": null,
   "metadata": {},
   "outputs": [],
   "source": [
    "y_pred_cri = clf3.predict(x_cri)\n",
    "\n",
    "print(classification_report(y_cri, y_pred_cri));"
   ]
  },
  {
   "cell_type": "raw",
   "metadata": {},
   "source": [
    "# Dataset 1  => Bin : 30, Threshold : 13.5, Width : 2.6\n",
    "Dataset 2  => Bin : 30, Threshold : 110, Width : 25\n",
    "Dataset 3  => Bin : 20, Threshold : 5600, Width : 5000\n",
    "Dataset 4  => Bin : 30, Threshold : 42800, Width : 5500"
   ]
  },
  {
   "cell_type": "code",
   "execution_count": null,
   "metadata": {},
   "outputs": [],
   "source": [
    "cases.maxdiff(y_pred_cri, y_cri),cases.precision(y_pred_cri,y_cri,threshold=42800)"
   ]
  },
  {
   "cell_type": "code",
   "execution_count": null,
   "metadata": {},
   "outputs": [],
   "source": [
    "cases.caseFigure(y_pred_cri,y_cri,threshold=42800,xbin=30,width=5500,title='xgb criti 4')"
   ]
  },
  {
   "cell_type": "code",
   "execution_count": null,
   "metadata": {},
   "outputs": [],
   "source": []
  },
  {
   "cell_type": "code",
   "execution_count": null,
   "metadata": {},
   "outputs": [],
   "source": []
  },
  {
   "cell_type": "code",
   "execution_count": null,
   "metadata": {},
   "outputs": [],
   "source": []
  },
  {
   "cell_type": "code",
   "execution_count": null,
   "metadata": {},
   "outputs": [],
   "source": []
  }
 ],
 "metadata": {
  "kernelspec": {
   "display_name": "Python 3",
   "language": "python",
   "name": "python3"
  },
  "language_info": {
   "codemirror_mode": {
    "name": "ipython",
    "version": 3
   },
   "file_extension": ".py",
   "mimetype": "text/x-python",
   "name": "python",
   "nbconvert_exporter": "python",
   "pygments_lexer": "ipython3",
   "version": "3.7.3"
  }
 },
 "nbformat": 4,
 "nbformat_minor": 4
}
