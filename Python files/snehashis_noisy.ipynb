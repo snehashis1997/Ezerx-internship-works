{
 "cells": [
  {
   "cell_type": "markdown",
   "metadata": {},
   "source": [
    "work no: 1\n",
    "\n",
    "Date 03.06.2020"
   ]
  },
  {
   "cell_type": "code",
   "execution_count": 1,
   "metadata": {},
   "outputs": [],
   "source": [
    "import os.path\n",
    "from os import path\n",
    "import numpy as np\n",
    "import pandas as pd\n",
    "import matplotlib.pyplot as plt\n",
    "from scipy.signal import convolve, boxcar, savgol_filter\n",
    "from scipy.ndimage.filters import gaussian_filter1d\n",
    "%matplotlib inline"
   ]
  },
  {
   "cell_type": "code",
   "execution_count": 2,
   "metadata": {
    "_cell_guid": "b1076dfc-b9ad-4769-8c92-a6c4dae69d19",
    "_uuid": "8f2839f25d086af736a60e9eeb907d3b93b6e0e5"
   },
   "outputs": [
    {
     "data": {
      "text/plain": [
       "False"
      ]
     },
     "execution_count": 2,
     "metadata": {},
     "output_type": "execute_result"
    }
   ],
   "source": [
    "path.isfile(r\"100_noisy_samplesA.csv\")"
   ]
  },
  {
   "cell_type": "code",
   "execution_count": 3,
   "metadata": {
    "_cell_guid": "79c7e3d0-c299-4dcb-8224-4455121ee9b0",
    "_uuid": "d629ff2d2480ee46fbb7e2d37f6b5fab8052498a"
   },
   "outputs": [
    {
     "ename": "FileNotFoundError",
     "evalue": "[Errno 2] File ../input/100_noisy_samplesA.csv does not exist: '../input/100_noisy_samplesA.csv'",
     "output_type": "error",
     "traceback": [
      "\u001b[0;31m---------------------------------------------------------------------------\u001b[0m",
      "\u001b[0;31mFileNotFoundError\u001b[0m                         Traceback (most recent call last)",
      "\u001b[0;32m<ipython-input-3-ffaf11e63261>\u001b[0m in \u001b[0;36m<module>\u001b[0;34m\u001b[0m\n\u001b[0;32m----> 1\u001b[0;31m \u001b[0mdf\u001b[0m \u001b[0;34m=\u001b[0m \u001b[0mpd\u001b[0m\u001b[0;34m.\u001b[0m\u001b[0mread_csv\u001b[0m\u001b[0;34m(\u001b[0m\u001b[0;34mr\"../input/100_noisy_samplesA.csv\"\u001b[0m\u001b[0;34m,\u001b[0m\u001b[0mheader\u001b[0m \u001b[0;34m=\u001b[0m \u001b[0;32mNone\u001b[0m\u001b[0;34m,\u001b[0m\u001b[0musecols\u001b[0m \u001b[0;34m=\u001b[0m \u001b[0mlist\u001b[0m\u001b[0;34m(\u001b[0m\u001b[0mrange\u001b[0m\u001b[0;34m(\u001b[0m\u001b[0;36m1\u001b[0m\u001b[0;34m,\u001b[0m\u001b[0;36m1000\u001b[0m\u001b[0;34m)\u001b[0m\u001b[0;34m)\u001b[0m\u001b[0;34m)\u001b[0m\u001b[0;34m\u001b[0m\u001b[0;34m\u001b[0m\u001b[0m\n\u001b[0m",
      "\u001b[0;32m/opt/tljh/user/lib/python3.7/site-packages/pandas/io/parsers.py\u001b[0m in \u001b[0;36mparser_f\u001b[0;34m(filepath_or_buffer, sep, delimiter, header, names, index_col, usecols, squeeze, prefix, mangle_dupe_cols, dtype, engine, converters, true_values, false_values, skipinitialspace, skiprows, skipfooter, nrows, na_values, keep_default_na, na_filter, verbose, skip_blank_lines, parse_dates, infer_datetime_format, keep_date_col, date_parser, dayfirst, cache_dates, iterator, chunksize, compression, thousands, decimal, lineterminator, quotechar, quoting, doublequote, escapechar, comment, encoding, dialect, error_bad_lines, warn_bad_lines, delim_whitespace, low_memory, memory_map, float_precision)\u001b[0m\n\u001b[1;32m    674\u001b[0m         )\n\u001b[1;32m    675\u001b[0m \u001b[0;34m\u001b[0m\u001b[0m\n\u001b[0;32m--> 676\u001b[0;31m         \u001b[0;32mreturn\u001b[0m \u001b[0m_read\u001b[0m\u001b[0;34m(\u001b[0m\u001b[0mfilepath_or_buffer\u001b[0m\u001b[0;34m,\u001b[0m \u001b[0mkwds\u001b[0m\u001b[0;34m)\u001b[0m\u001b[0;34m\u001b[0m\u001b[0;34m\u001b[0m\u001b[0m\n\u001b[0m\u001b[1;32m    677\u001b[0m \u001b[0;34m\u001b[0m\u001b[0m\n\u001b[1;32m    678\u001b[0m     \u001b[0mparser_f\u001b[0m\u001b[0;34m.\u001b[0m\u001b[0m__name__\u001b[0m \u001b[0;34m=\u001b[0m \u001b[0mname\u001b[0m\u001b[0;34m\u001b[0m\u001b[0;34m\u001b[0m\u001b[0m\n",
      "\u001b[0;32m/opt/tljh/user/lib/python3.7/site-packages/pandas/io/parsers.py\u001b[0m in \u001b[0;36m_read\u001b[0;34m(filepath_or_buffer, kwds)\u001b[0m\n\u001b[1;32m    446\u001b[0m \u001b[0;34m\u001b[0m\u001b[0m\n\u001b[1;32m    447\u001b[0m     \u001b[0;31m# Create the parser.\u001b[0m\u001b[0;34m\u001b[0m\u001b[0;34m\u001b[0m\u001b[0;34m\u001b[0m\u001b[0m\n\u001b[0;32m--> 448\u001b[0;31m     \u001b[0mparser\u001b[0m \u001b[0;34m=\u001b[0m \u001b[0mTextFileReader\u001b[0m\u001b[0;34m(\u001b[0m\u001b[0mfp_or_buf\u001b[0m\u001b[0;34m,\u001b[0m \u001b[0;34m**\u001b[0m\u001b[0mkwds\u001b[0m\u001b[0;34m)\u001b[0m\u001b[0;34m\u001b[0m\u001b[0;34m\u001b[0m\u001b[0m\n\u001b[0m\u001b[1;32m    449\u001b[0m \u001b[0;34m\u001b[0m\u001b[0m\n\u001b[1;32m    450\u001b[0m     \u001b[0;32mif\u001b[0m \u001b[0mchunksize\u001b[0m \u001b[0;32mor\u001b[0m \u001b[0miterator\u001b[0m\u001b[0;34m:\u001b[0m\u001b[0;34m\u001b[0m\u001b[0;34m\u001b[0m\u001b[0m\n",
      "\u001b[0;32m/opt/tljh/user/lib/python3.7/site-packages/pandas/io/parsers.py\u001b[0m in \u001b[0;36m__init__\u001b[0;34m(self, f, engine, **kwds)\u001b[0m\n\u001b[1;32m    878\u001b[0m             \u001b[0mself\u001b[0m\u001b[0;34m.\u001b[0m\u001b[0moptions\u001b[0m\u001b[0;34m[\u001b[0m\u001b[0;34m\"has_index_names\"\u001b[0m\u001b[0;34m]\u001b[0m \u001b[0;34m=\u001b[0m \u001b[0mkwds\u001b[0m\u001b[0;34m[\u001b[0m\u001b[0;34m\"has_index_names\"\u001b[0m\u001b[0;34m]\u001b[0m\u001b[0;34m\u001b[0m\u001b[0;34m\u001b[0m\u001b[0m\n\u001b[1;32m    879\u001b[0m \u001b[0;34m\u001b[0m\u001b[0m\n\u001b[0;32m--> 880\u001b[0;31m         \u001b[0mself\u001b[0m\u001b[0;34m.\u001b[0m\u001b[0m_make_engine\u001b[0m\u001b[0;34m(\u001b[0m\u001b[0mself\u001b[0m\u001b[0;34m.\u001b[0m\u001b[0mengine\u001b[0m\u001b[0;34m)\u001b[0m\u001b[0;34m\u001b[0m\u001b[0;34m\u001b[0m\u001b[0m\n\u001b[0m\u001b[1;32m    881\u001b[0m \u001b[0;34m\u001b[0m\u001b[0m\n\u001b[1;32m    882\u001b[0m     \u001b[0;32mdef\u001b[0m \u001b[0mclose\u001b[0m\u001b[0;34m(\u001b[0m\u001b[0mself\u001b[0m\u001b[0;34m)\u001b[0m\u001b[0;34m:\u001b[0m\u001b[0;34m\u001b[0m\u001b[0;34m\u001b[0m\u001b[0m\n",
      "\u001b[0;32m/opt/tljh/user/lib/python3.7/site-packages/pandas/io/parsers.py\u001b[0m in \u001b[0;36m_make_engine\u001b[0;34m(self, engine)\u001b[0m\n\u001b[1;32m   1112\u001b[0m     \u001b[0;32mdef\u001b[0m \u001b[0m_make_engine\u001b[0m\u001b[0;34m(\u001b[0m\u001b[0mself\u001b[0m\u001b[0;34m,\u001b[0m \u001b[0mengine\u001b[0m\u001b[0;34m=\u001b[0m\u001b[0;34m\"c\"\u001b[0m\u001b[0;34m)\u001b[0m\u001b[0;34m:\u001b[0m\u001b[0;34m\u001b[0m\u001b[0;34m\u001b[0m\u001b[0m\n\u001b[1;32m   1113\u001b[0m         \u001b[0;32mif\u001b[0m \u001b[0mengine\u001b[0m \u001b[0;34m==\u001b[0m \u001b[0;34m\"c\"\u001b[0m\u001b[0;34m:\u001b[0m\u001b[0;34m\u001b[0m\u001b[0;34m\u001b[0m\u001b[0m\n\u001b[0;32m-> 1114\u001b[0;31m             \u001b[0mself\u001b[0m\u001b[0;34m.\u001b[0m\u001b[0m_engine\u001b[0m \u001b[0;34m=\u001b[0m \u001b[0mCParserWrapper\u001b[0m\u001b[0;34m(\u001b[0m\u001b[0mself\u001b[0m\u001b[0;34m.\u001b[0m\u001b[0mf\u001b[0m\u001b[0;34m,\u001b[0m \u001b[0;34m**\u001b[0m\u001b[0mself\u001b[0m\u001b[0;34m.\u001b[0m\u001b[0moptions\u001b[0m\u001b[0;34m)\u001b[0m\u001b[0;34m\u001b[0m\u001b[0;34m\u001b[0m\u001b[0m\n\u001b[0m\u001b[1;32m   1115\u001b[0m         \u001b[0;32melse\u001b[0m\u001b[0;34m:\u001b[0m\u001b[0;34m\u001b[0m\u001b[0;34m\u001b[0m\u001b[0m\n\u001b[1;32m   1116\u001b[0m             \u001b[0;32mif\u001b[0m \u001b[0mengine\u001b[0m \u001b[0;34m==\u001b[0m \u001b[0;34m\"python\"\u001b[0m\u001b[0;34m:\u001b[0m\u001b[0;34m\u001b[0m\u001b[0;34m\u001b[0m\u001b[0m\n",
      "\u001b[0;32m/opt/tljh/user/lib/python3.7/site-packages/pandas/io/parsers.py\u001b[0m in \u001b[0;36m__init__\u001b[0;34m(self, src, **kwds)\u001b[0m\n\u001b[1;32m   1889\u001b[0m         \u001b[0mkwds\u001b[0m\u001b[0;34m[\u001b[0m\u001b[0;34m\"usecols\"\u001b[0m\u001b[0;34m]\u001b[0m \u001b[0;34m=\u001b[0m \u001b[0mself\u001b[0m\u001b[0;34m.\u001b[0m\u001b[0musecols\u001b[0m\u001b[0;34m\u001b[0m\u001b[0;34m\u001b[0m\u001b[0m\n\u001b[1;32m   1890\u001b[0m \u001b[0;34m\u001b[0m\u001b[0m\n\u001b[0;32m-> 1891\u001b[0;31m         \u001b[0mself\u001b[0m\u001b[0;34m.\u001b[0m\u001b[0m_reader\u001b[0m \u001b[0;34m=\u001b[0m \u001b[0mparsers\u001b[0m\u001b[0;34m.\u001b[0m\u001b[0mTextReader\u001b[0m\u001b[0;34m(\u001b[0m\u001b[0msrc\u001b[0m\u001b[0;34m,\u001b[0m \u001b[0;34m**\u001b[0m\u001b[0mkwds\u001b[0m\u001b[0;34m)\u001b[0m\u001b[0;34m\u001b[0m\u001b[0;34m\u001b[0m\u001b[0m\n\u001b[0m\u001b[1;32m   1892\u001b[0m         \u001b[0mself\u001b[0m\u001b[0;34m.\u001b[0m\u001b[0munnamed_cols\u001b[0m \u001b[0;34m=\u001b[0m \u001b[0mself\u001b[0m\u001b[0;34m.\u001b[0m\u001b[0m_reader\u001b[0m\u001b[0;34m.\u001b[0m\u001b[0munnamed_cols\u001b[0m\u001b[0;34m\u001b[0m\u001b[0;34m\u001b[0m\u001b[0m\n\u001b[1;32m   1893\u001b[0m \u001b[0;34m\u001b[0m\u001b[0m\n",
      "\u001b[0;32mpandas/_libs/parsers.pyx\u001b[0m in \u001b[0;36mpandas._libs.parsers.TextReader.__cinit__\u001b[0;34m()\u001b[0m\n",
      "\u001b[0;32mpandas/_libs/parsers.pyx\u001b[0m in \u001b[0;36mpandas._libs.parsers.TextReader._setup_parser_source\u001b[0;34m()\u001b[0m\n",
      "\u001b[0;31mFileNotFoundError\u001b[0m: [Errno 2] File ../input/100_noisy_samplesA.csv does not exist: '../input/100_noisy_samplesA.csv'"
     ]
    }
   ],
   "source": [
    "df = pd.read_csv(r\"100_noisy_samplesA.csv\",header = None,usecols = list(range(1,1000)))"
   ]
  },
  {
   "cell_type": "code",
   "execution_count": 555,
   "metadata": {},
   "outputs": [
    {
     "data": {
      "text/html": [
       "<div>\n",
       "<style scoped>\n",
       "    .dataframe tbody tr th:only-of-type {\n",
       "        vertical-align: middle;\n",
       "    }\n",
       "\n",
       "    .dataframe tbody tr th {\n",
       "        vertical-align: top;\n",
       "    }\n",
       "\n",
       "    .dataframe thead th {\n",
       "        text-align: right;\n",
       "    }\n",
       "</style>\n",
       "<table border=\"1\" class=\"dataframe\">\n",
       "  <thead>\n",
       "    <tr style=\"text-align: right;\">\n",
       "      <th></th>\n",
       "      <th>0</th>\n",
       "      <th>1</th>\n",
       "      <th>2</th>\n",
       "      <th>3</th>\n",
       "      <th>4</th>\n",
       "      <th>5</th>\n",
       "      <th>6</th>\n",
       "      <th>7</th>\n",
       "      <th>8</th>\n",
       "      <th>9</th>\n",
       "      <th>...</th>\n",
       "      <th>989</th>\n",
       "      <th>990</th>\n",
       "      <th>991</th>\n",
       "      <th>992</th>\n",
       "      <th>993</th>\n",
       "      <th>994</th>\n",
       "      <th>995</th>\n",
       "      <th>996</th>\n",
       "      <th>997</th>\n",
       "      <th>998</th>\n",
       "    </tr>\n",
       "  </thead>\n",
       "  <tbody>\n",
       "    <tr>\n",
       "      <th>0</th>\n",
       "      <td>0.290485</td>\n",
       "      <td>0.723549</td>\n",
       "      <td>0.908675</td>\n",
       "      <td>1.011652</td>\n",
       "      <td>0.280142</td>\n",
       "      <td>0.641098</td>\n",
       "      <td>0.621756</td>\n",
       "      <td>0.754564</td>\n",
       "      <td>0.072190</td>\n",
       "      <td>0.781408</td>\n",
       "      <td>...</td>\n",
       "      <td>NaN</td>\n",
       "      <td>0.860184</td>\n",
       "      <td>0.292877</td>\n",
       "      <td>0.802291</td>\n",
       "      <td>0.227293</td>\n",
       "      <td>0.868965</td>\n",
       "      <td>0.951896</td>\n",
       "      <td>0.724154</td>\n",
       "      <td>0.577050</td>\n",
       "      <td>NaN</td>\n",
       "    </tr>\n",
       "    <tr>\n",
       "      <th>1</th>\n",
       "      <td>0.307763</td>\n",
       "      <td>0.223661</td>\n",
       "      <td>0.245477</td>\n",
       "      <td>NaN</td>\n",
       "      <td>0.683266</td>\n",
       "      <td>0.180099</td>\n",
       "      <td>NaN</td>\n",
       "      <td>0.707277</td>\n",
       "      <td>NaN</td>\n",
       "      <td>NaN</td>\n",
       "      <td>...</td>\n",
       "      <td>0.872974</td>\n",
       "      <td>0.656137</td>\n",
       "      <td>0.091642</td>\n",
       "      <td>NaN</td>\n",
       "      <td>NaN</td>\n",
       "      <td>0.966439</td>\n",
       "      <td>0.996754</td>\n",
       "      <td>0.061796</td>\n",
       "      <td>NaN</td>\n",
       "      <td>NaN</td>\n",
       "    </tr>\n",
       "    <tr>\n",
       "      <th>2</th>\n",
       "      <td>NaN</td>\n",
       "      <td>0.483362</td>\n",
       "      <td>0.871597</td>\n",
       "      <td>NaN</td>\n",
       "      <td>NaN</td>\n",
       "      <td>NaN</td>\n",
       "      <td>0.389561</td>\n",
       "      <td>0.763197</td>\n",
       "      <td>NaN</td>\n",
       "      <td>NaN</td>\n",
       "      <td>...</td>\n",
       "      <td>0.405564</td>\n",
       "      <td>NaN</td>\n",
       "      <td>NaN</td>\n",
       "      <td>0.847435</td>\n",
       "      <td>0.322934</td>\n",
       "      <td>0.616900</td>\n",
       "      <td>0.526608</td>\n",
       "      <td>NaN</td>\n",
       "      <td>0.811156</td>\n",
       "      <td>NaN</td>\n",
       "    </tr>\n",
       "    <tr>\n",
       "      <th>3</th>\n",
       "      <td>0.473682</td>\n",
       "      <td>0.476490</td>\n",
       "      <td>NaN</td>\n",
       "      <td>0.257732</td>\n",
       "      <td>0.893229</td>\n",
       "      <td>0.790289</td>\n",
       "      <td>0.942462</td>\n",
       "      <td>NaN</td>\n",
       "      <td>0.312490</td>\n",
       "      <td>NaN</td>\n",
       "      <td>...</td>\n",
       "      <td>0.730335</td>\n",
       "      <td>0.053068</td>\n",
       "      <td>0.348438</td>\n",
       "      <td>NaN</td>\n",
       "      <td>0.879613</td>\n",
       "      <td>NaN</td>\n",
       "      <td>NaN</td>\n",
       "      <td>NaN</td>\n",
       "      <td>NaN</td>\n",
       "      <td>NaN</td>\n",
       "    </tr>\n",
       "    <tr>\n",
       "      <th>4</th>\n",
       "      <td>NaN</td>\n",
       "      <td>NaN</td>\n",
       "      <td>0.922035</td>\n",
       "      <td>1.002515</td>\n",
       "      <td>0.075272</td>\n",
       "      <td>0.242141</td>\n",
       "      <td>NaN</td>\n",
       "      <td>0.168365</td>\n",
       "      <td>0.657401</td>\n",
       "      <td>0.407852</td>\n",
       "      <td>...</td>\n",
       "      <td>0.686111</td>\n",
       "      <td>NaN</td>\n",
       "      <td>0.029991</td>\n",
       "      <td>NaN</td>\n",
       "      <td>NaN</td>\n",
       "      <td>0.452539</td>\n",
       "      <td>0.793662</td>\n",
       "      <td>0.954226</td>\n",
       "      <td>NaN</td>\n",
       "      <td>NaN</td>\n",
       "    </tr>\n",
       "  </tbody>\n",
       "</table>\n",
       "<p>5 rows × 999 columns</p>\n",
       "</div>"
      ],
      "text/plain": [
       "        0         1         2         3         4         5         6    \\\n",
       "0  0.290485  0.723549  0.908675  1.011652  0.280142  0.641098  0.621756   \n",
       "1  0.307763  0.223661  0.245477       NaN  0.683266  0.180099       NaN   \n",
       "2       NaN  0.483362  0.871597       NaN       NaN       NaN  0.389561   \n",
       "3  0.473682  0.476490       NaN  0.257732  0.893229  0.790289  0.942462   \n",
       "4       NaN       NaN  0.922035  1.002515  0.075272  0.242141       NaN   \n",
       "\n",
       "        7         8         9    ...       989       990       991       992  \\\n",
       "0  0.754564  0.072190  0.781408  ...       NaN  0.860184  0.292877  0.802291   \n",
       "1  0.707277       NaN       NaN  ...  0.872974  0.656137  0.091642       NaN   \n",
       "2  0.763197       NaN       NaN  ...  0.405564       NaN       NaN  0.847435   \n",
       "3       NaN  0.312490       NaN  ...  0.730335  0.053068  0.348438       NaN   \n",
       "4  0.168365  0.657401  0.407852  ...  0.686111       NaN  0.029991       NaN   \n",
       "\n",
       "        993       994       995       996       997  998  \n",
       "0  0.227293  0.868965  0.951896  0.724154  0.577050  NaN  \n",
       "1       NaN  0.966439  0.996754  0.061796       NaN  NaN  \n",
       "2  0.322934  0.616900  0.526608       NaN  0.811156  NaN  \n",
       "3  0.879613       NaN       NaN       NaN       NaN  NaN  \n",
       "4       NaN  0.452539  0.793662  0.954226       NaN  NaN  \n",
       "\n",
       "[5 rows x 999 columns]"
      ]
     },
     "execution_count": 555,
     "metadata": {},
     "output_type": "execute_result"
    }
   ],
   "source": [
    "df.head()"
   ]
  },
  {
   "cell_type": "code",
   "execution_count": 556,
   "metadata": {},
   "outputs": [],
   "source": [
    "df = df.fillna(df.mean())"
   ]
  },
  {
   "cell_type": "code",
   "execution_count": 557,
   "metadata": {},
   "outputs": [
    {
     "data": {
      "text/plain": [
       "(100, 999)"
      ]
     },
     "execution_count": 557,
     "metadata": {},
     "output_type": "execute_result"
    }
   ],
   "source": [
    "df.shape"
   ]
  },
  {
   "cell_type": "code",
   "execution_count": 558,
   "metadata": {},
   "outputs": [],
   "source": [
    "df = df.fillna(0)"
   ]
  },
  {
   "cell_type": "code",
   "execution_count": 559,
   "metadata": {},
   "outputs": [],
   "source": [
    "df = df.T"
   ]
  },
  {
   "cell_type": "code",
   "execution_count": 560,
   "metadata": {},
   "outputs": [
    {
     "data": {
      "text/html": [
       "<div>\n",
       "<style scoped>\n",
       "    .dataframe tbody tr th:only-of-type {\n",
       "        vertical-align: middle;\n",
       "    }\n",
       "\n",
       "    .dataframe tbody tr th {\n",
       "        vertical-align: top;\n",
       "    }\n",
       "\n",
       "    .dataframe thead th {\n",
       "        text-align: right;\n",
       "    }\n",
       "</style>\n",
       "<table border=\"1\" class=\"dataframe\">\n",
       "  <thead>\n",
       "    <tr style=\"text-align: right;\">\n",
       "      <th></th>\n",
       "      <th>0</th>\n",
       "      <th>1</th>\n",
       "      <th>2</th>\n",
       "      <th>3</th>\n",
       "      <th>4</th>\n",
       "      <th>5</th>\n",
       "      <th>6</th>\n",
       "      <th>7</th>\n",
       "      <th>8</th>\n",
       "      <th>9</th>\n",
       "      <th>...</th>\n",
       "      <th>90</th>\n",
       "      <th>91</th>\n",
       "      <th>92</th>\n",
       "      <th>93</th>\n",
       "      <th>94</th>\n",
       "      <th>95</th>\n",
       "      <th>96</th>\n",
       "      <th>97</th>\n",
       "      <th>98</th>\n",
       "      <th>99</th>\n",
       "    </tr>\n",
       "  </thead>\n",
       "  <tbody>\n",
       "    <tr>\n",
       "      <th>0</th>\n",
       "      <td>0.290485</td>\n",
       "      <td>0.307763</td>\n",
       "      <td>0.564481</td>\n",
       "      <td>0.473682</td>\n",
       "      <td>0.564481</td>\n",
       "      <td>0.149196</td>\n",
       "      <td>0.913686</td>\n",
       "      <td>0.140282</td>\n",
       "      <td>0.564481</td>\n",
       "      <td>0.934137</td>\n",
       "      <td>...</td>\n",
       "      <td>0.564481</td>\n",
       "      <td>0.684896</td>\n",
       "      <td>0.212235</td>\n",
       "      <td>0.278135</td>\n",
       "      <td>1.003032</td>\n",
       "      <td>0.696311</td>\n",
       "      <td>0.855691</td>\n",
       "      <td>0.755716</td>\n",
       "      <td>0.355264</td>\n",
       "      <td>0.411316</td>\n",
       "    </tr>\n",
       "    <tr>\n",
       "      <th>1</th>\n",
       "      <td>0.723549</td>\n",
       "      <td>0.223661</td>\n",
       "      <td>0.483362</td>\n",
       "      <td>0.476490</td>\n",
       "      <td>0.487986</td>\n",
       "      <td>0.523218</td>\n",
       "      <td>0.487986</td>\n",
       "      <td>0.545983</td>\n",
       "      <td>0.775865</td>\n",
       "      <td>0.598675</td>\n",
       "      <td>...</td>\n",
       "      <td>0.166912</td>\n",
       "      <td>0.160942</td>\n",
       "      <td>0.487986</td>\n",
       "      <td>0.594972</td>\n",
       "      <td>0.487986</td>\n",
       "      <td>0.524775</td>\n",
       "      <td>1.006778</td>\n",
       "      <td>0.157240</td>\n",
       "      <td>0.052955</td>\n",
       "      <td>0.529571</td>\n",
       "    </tr>\n",
       "    <tr>\n",
       "      <th>2</th>\n",
       "      <td>0.908675</td>\n",
       "      <td>0.245477</td>\n",
       "      <td>0.871597</td>\n",
       "      <td>0.554351</td>\n",
       "      <td>0.922035</td>\n",
       "      <td>0.554351</td>\n",
       "      <td>0.624925</td>\n",
       "      <td>1.008090</td>\n",
       "      <td>0.554351</td>\n",
       "      <td>0.811605</td>\n",
       "      <td>...</td>\n",
       "      <td>0.231375</td>\n",
       "      <td>0.347585</td>\n",
       "      <td>0.554351</td>\n",
       "      <td>0.171985</td>\n",
       "      <td>0.734148</td>\n",
       "      <td>0.554351</td>\n",
       "      <td>0.631034</td>\n",
       "      <td>0.554351</td>\n",
       "      <td>0.554351</td>\n",
       "      <td>0.729253</td>\n",
       "    </tr>\n",
       "    <tr>\n",
       "      <th>3</th>\n",
       "      <td>1.011652</td>\n",
       "      <td>0.546328</td>\n",
       "      <td>0.546328</td>\n",
       "      <td>0.257732</td>\n",
       "      <td>1.002515</td>\n",
       "      <td>0.172955</td>\n",
       "      <td>0.255047</td>\n",
       "      <td>0.115504</td>\n",
       "      <td>0.546328</td>\n",
       "      <td>1.037749</td>\n",
       "      <td>...</td>\n",
       "      <td>0.727133</td>\n",
       "      <td>0.187095</td>\n",
       "      <td>0.546328</td>\n",
       "      <td>0.336073</td>\n",
       "      <td>0.624226</td>\n",
       "      <td>1.044003</td>\n",
       "      <td>0.546328</td>\n",
       "      <td>0.607951</td>\n",
       "      <td>0.546328</td>\n",
       "      <td>0.808297</td>\n",
       "    </tr>\n",
       "    <tr>\n",
       "      <th>4</th>\n",
       "      <td>0.280142</td>\n",
       "      <td>0.683266</td>\n",
       "      <td>0.525832</td>\n",
       "      <td>0.893229</td>\n",
       "      <td>0.075272</td>\n",
       "      <td>0.525832</td>\n",
       "      <td>0.476157</td>\n",
       "      <td>0.525832</td>\n",
       "      <td>0.280370</td>\n",
       "      <td>0.525832</td>\n",
       "      <td>...</td>\n",
       "      <td>1.026275</td>\n",
       "      <td>0.499453</td>\n",
       "      <td>0.525832</td>\n",
       "      <td>0.192780</td>\n",
       "      <td>0.319201</td>\n",
       "      <td>0.300953</td>\n",
       "      <td>0.379554</td>\n",
       "      <td>0.791869</td>\n",
       "      <td>0.370357</td>\n",
       "      <td>0.525832</td>\n",
       "    </tr>\n",
       "  </tbody>\n",
       "</table>\n",
       "<p>5 rows × 100 columns</p>\n",
       "</div>"
      ],
      "text/plain": [
       "         0         1         2         3         4         5         6   \\\n",
       "0  0.290485  0.307763  0.564481  0.473682  0.564481  0.149196  0.913686   \n",
       "1  0.723549  0.223661  0.483362  0.476490  0.487986  0.523218  0.487986   \n",
       "2  0.908675  0.245477  0.871597  0.554351  0.922035  0.554351  0.624925   \n",
       "3  1.011652  0.546328  0.546328  0.257732  1.002515  0.172955  0.255047   \n",
       "4  0.280142  0.683266  0.525832  0.893229  0.075272  0.525832  0.476157   \n",
       "\n",
       "         7         8         9   ...        90        91        92        93  \\\n",
       "0  0.140282  0.564481  0.934137  ...  0.564481  0.684896  0.212235  0.278135   \n",
       "1  0.545983  0.775865  0.598675  ...  0.166912  0.160942  0.487986  0.594972   \n",
       "2  1.008090  0.554351  0.811605  ...  0.231375  0.347585  0.554351  0.171985   \n",
       "3  0.115504  0.546328  1.037749  ...  0.727133  0.187095  0.546328  0.336073   \n",
       "4  0.525832  0.280370  0.525832  ...  1.026275  0.499453  0.525832  0.192780   \n",
       "\n",
       "         94        95        96        97        98        99  \n",
       "0  1.003032  0.696311  0.855691  0.755716  0.355264  0.411316  \n",
       "1  0.487986  0.524775  1.006778  0.157240  0.052955  0.529571  \n",
       "2  0.734148  0.554351  0.631034  0.554351  0.554351  0.729253  \n",
       "3  0.624226  1.044003  0.546328  0.607951  0.546328  0.808297  \n",
       "4  0.319201  0.300953  0.379554  0.791869  0.370357  0.525832  \n",
       "\n",
       "[5 rows x 100 columns]"
      ]
     },
     "execution_count": 560,
     "metadata": {},
     "output_type": "execute_result"
    }
   ],
   "source": [
    "df.head()"
   ]
  },
  {
   "cell_type": "code",
   "execution_count": 561,
   "metadata": {},
   "outputs": [
    {
     "data": {
      "text/plain": [
       "(999, 100)"
      ]
     },
     "execution_count": 561,
     "metadata": {},
     "output_type": "execute_result"
    }
   ],
   "source": [
    "df.shape"
   ]
  },
  {
   "cell_type": "code",
   "execution_count": 562,
   "metadata": {},
   "outputs": [],
   "source": [
    "temp = df[:][10]"
   ]
  },
  {
   "cell_type": "code",
   "execution_count": 563,
   "metadata": {},
   "outputs": [],
   "source": [
    "#(temp)"
   ]
  },
  {
   "cell_type": "code",
   "execution_count": 564,
   "metadata": {},
   "outputs": [
    {
     "data": {
      "image/png": "[encoded data removed]",
      "text/plain": [
       "<Figure size 432x288 with 1 Axes>"
      ]
     },
     "metadata": {
      "needs_background": "light"
     },
     "output_type": "display_data"
    }
   ],
   "source": [
    "plt.plot(temp)\n",
    "plt.title(\"A random signal value plot\")\n",
    "plt.xlabel(\"time\")\n",
    "plt.ylabel(\"Signal value\")\n",
    "plt.show()"
   ]
  },
  {
   "cell_type": "markdown",
   "metadata": {},
   "source": [
    "**Sample plot of BOXCAR**"
   ]
  },
  {
   "cell_type": "code",
   "execution_count": 565,
   "metadata": {},
   "outputs": [
    {
     "data": {
      "image/png": "[encoded data removed]",
      "text/plain": [
       "<Figure size 432x288 with 1 Axes>"
      ]
     },
     "metadata": {
      "needs_background": "light"
     },
     "output_type": "display_data"
    }
   ],
   "source": [
    "size = 3\n",
    "window = boxcar(size)\n",
    "sig = convolve(temp,window)\n",
    "\n",
    "plt.plot(sig)\n",
    "plt.title(\"A Boxcar signal value plot\")\n",
    "plt.xlabel(\"time\")\n",
    "plt.ylabel(\"Box car Signal value\")\n",
    "plt.show()"
   ]
  },
  {
   "cell_type": "markdown",
   "metadata": {},
   "source": [
    "**BOX CAR SIZE 3**"
   ]
  },
  {
   "cell_type": "code",
   "execution_count": 566,
   "metadata": {},
   "outputs": [],
   "source": [
    "size = 3\n",
    "window = boxcar(size)\n",
    "box_car3 = list()\n",
    "\n",
    "for i in range(100):\n",
    "    temp = df[:][i]\n",
    "    sig = convolve(temp,window)\n",
    "    box_car3.append(np.array(sig))\n",
    "\n",
    "box_car3 = np.array(box_car3)\n",
    "box_car3 = pd.DataFrame(box_car3)\n",
    "#box_car3 = box_car3.T\n",
    "\n",
    "box_car3.to_csv('box_car3.csv', index=False)\n"
   ]
  },
  {
   "cell_type": "code",
   "execution_count": 567,
   "metadata": {},
   "outputs": [
    {
     "data": {
      "text/plain": [
       "(1001, 100)"
      ]
     },
     "execution_count": 567,
     "metadata": {},
     "output_type": "execute_result"
    }
   ],
   "source": [
    "box_car3.shape"
   ]
  },
  {
   "cell_type": "markdown",
   "metadata": {},
   "source": [
    "**BOX CAR SIZE 5**"
   ]
  },
  {
   "cell_type": "code",
   "execution_count": 568,
   "metadata": {},
   "outputs": [],
   "source": [
    "size = 5\n",
    "window = boxcar(size)\n",
    "\n",
    "box_car5 = list()\n",
    "\n",
    "for i in range(100):\n",
    "    temp = df[:][i]\n",
    "    sig = convolve(temp,window)\n",
    "    box_car5.append(np.array(sig))\n",
    "\n",
    "box_car5 = np.array(box_car5)\n",
    "box_car5 = pd.DataFrame(box_car5)\n",
    "#box_car5 = box_car5.T\n",
    "\n",
    "box_car5.to_csv('box_car5.csv', index=False)"
   ]
  },
  {
   "cell_type": "markdown",
   "metadata": {},
   "source": [
    "**BOX CAR SIZE 7**"
   ]
  },
  {
   "cell_type": "code",
   "execution_count": 569,
   "metadata": {},
   "outputs": [],
   "source": [
    "size = 7\n",
    "window = boxcar(size)\n",
    "\n",
    "box_car7 = list()\n",
    "\n",
    "for i in range(100):\n",
    "    temp = df[:][i]\n",
    "    sig = convolve(temp,window)\n",
    "    box_car7.append(np.array(sig))\n",
    "\n",
    "box_car7 = np.array(box_car7)\n",
    "box_car7 = pd.DataFrame(box_car7)\n",
    "#box_car7 = box_car7.T\n",
    "\n",
    "box_car7.to_csv('box_car7.csv', index=False)"
   ]
  },
  {
   "cell_type": "markdown",
   "metadata": {},
   "source": [
    "**savgol_filter SIZE 5**"
   ]
  },
  {
   "cell_type": "code",
   "execution_count": 570,
   "metadata": {},
   "outputs": [],
   "source": [
    "sav_df = list()\n",
    "\n",
    "for i in range(100):\n",
    "    temp = df[:][i]\n",
    "    fil = savgol_filter(temp,5, 2)\n",
    "    sav_df.append(np.array(fil))\n",
    "\n",
    "sav_df = np.array(sav_df)\n",
    "sav_df = pd.DataFrame(sav_df)\n",
    "#sav_df = sav_df.T\n",
    "\n",
    "sav_df.to_csv('sav_df.csv', index=False)"
   ]
  },
  {
   "cell_type": "code",
   "execution_count": 574,
   "metadata": {},
   "outputs": [
    {
     "data": {
      "text/plain": [
       "(999, 100)"
      ]
     },
     "execution_count": 574,
     "metadata": {},
     "output_type": "execute_result"
    }
   ],
   "source": [
    "sav_df.shape"
   ]
  },
  {
   "cell_type": "markdown",
   "metadata": {},
   "source": [
    "**SAMPLE savgol_filter PLOT**"
   ]
  },
  {
   "cell_type": "code",
   "execution_count": 571,
   "metadata": {},
   "outputs": [
    {
     "data": {
      "image/png": "[encoded data removed]",
      "text/plain": [
       "<Figure size 432x288 with 1 Axes>"
      ]
     },
     "metadata": {
      "needs_background": "light"
     },
     "output_type": "display_data"
    }
   ],
   "source": [
    "plt.plot(fil)\n",
    "plt.title(\"A savgol filter signal value plot\")\n",
    "plt.xlabel(\"time\")\n",
    "plt.ylabel(\"savgol filter Signal value\")\n",
    "plt.show()"
   ]
  },
  {
   "cell_type": "markdown",
   "metadata": {},
   "source": [
    "**SAMPLE GAUSSIAN PLOT**"
   ]
  },
  {
   "cell_type": "code",
   "execution_count": 572,
   "metadata": {},
   "outputs": [
    {
     "data": {
      "image/png": "[encoded data removed]",
      "text/plain": [
       "<Figure size 432x288 with 1 Axes>"
      ]
     },
     "metadata": {
      "needs_background": "light"
     },
     "output_type": "display_data"
    }
   ],
   "source": [
    "g = gaussian_filter1d(temp,sigma = 0.1)\n",
    "\n",
    "plt.plot(g)\n",
    "plt.title(\"A gaussian filter signal value plot\")\n",
    "plt.xlabel(\"time\")\n",
    "plt.ylabel(\"gaussian filter Signal value\")\n",
    "plt.show()"
   ]
  },
  {
   "cell_type": "code",
   "execution_count": 573,
   "metadata": {},
   "outputs": [],
   "source": [
    "gauss = list()\n",
    "\n",
    "for i in range(100):\n",
    "    temp = df[:][i]\n",
    "    fil = gaussian_filter1d(temp,sigma = 0.1)\n",
    "    gauss.append(np.array(fil))\n",
    "\n",
    "gauss = np.array(gauss)\n",
    "gauss = pd.DataFrame(gauss)\n",
    "#gauss = gauss.T\n",
    "\n",
    "gauss.to_csv('gauss.csv', index=False)"
   ]
  },
  {
   "cell_type": "code",
   "execution_count": 575,
   "metadata": {},
   "outputs": [
    {
     "data": {
      "text/plain": [
       "(999, 100)"
      ]
     },
     "execution_count": 575,
     "metadata": {},
     "output_type": "execute_result"
    }
   ],
   "source": [
    "gauss.shape"
   ]
  },
  {
   "cell_type": "code",
   "execution_count": null,
   "metadata": {},
   "outputs": [],
   "source": []
  }
 ],
 "metadata": {
  "kernelspec": {
   "display_name": "Python 3",
   "language": "python",
   "name": "python3"
  },
  "language_info": {
   "codemirror_mode": {
    "name": "ipython",
    "version": 3
   },
   "file_extension": ".py",
   "mimetype": "text/x-python",
   "name": "python",
   "nbconvert_exporter": "python",
   "pygments_lexer": "ipython3",
   "version": "3.7.3"
  }
 },
 "nbformat": 4,
 "nbformat_minor": 4
}
