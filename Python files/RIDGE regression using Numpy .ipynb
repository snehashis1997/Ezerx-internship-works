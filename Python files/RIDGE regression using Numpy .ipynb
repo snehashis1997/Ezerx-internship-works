{
 "cells": [
  {
   "cell_type": "code",
   "execution_count": 100,
   "metadata": {
    "scrolled": true
   },
   "outputs": [],
   "source": [
    "import pandas as pd\n",
    "import numpy as np\n",
    "import matplotlib.pyplot as plt\n",
    "from sklearn.linear_model import LinearRegression\n",
    "from sklearn.tree import DecisionTreeRegressor\n",
    "from sklearn import tree\n",
    "from sklearn.model_selection import train_test_split\n",
    "from sklearn.preprocessing import PolynomialFeatures\n",
    "from sklearn.preprocessing import StandardScaler\n",
    "from sklearn import metrics\n",
    "from sklearn.metrics import accuracy_score\n",
    "import seaborn as sns\n",
    "%matplotlib inline"
   ]
  },
  {
   "cell_type": "code",
   "execution_count": 101,
   "metadata": {
    "scrolled": true
   },
   "outputs": [],
   "source": [
    "df = pd.read_csv(\"MLDataset.csv\",header = None)"
   ]
  },
  {
   "cell_type": "code",
   "execution_count": 102,
   "metadata": {
    "scrolled": true
   },
   "outputs": [
    {
     "data": {
      "text/plain": [
       "(539, 292)"
      ]
     },
     "execution_count": 102,
     "metadata": {},
     "output_type": "execute_result"
    }
   ],
   "source": [
    "df.shape"
   ]
  },
  {
   "cell_type": "code",
   "execution_count": 103,
   "metadata": {
    "scrolled": true
   },
   "outputs": [],
   "source": [
    "x = df.iloc[:, :-1].values\n",
    "y = df.iloc[:, 291].values"
   ]
  },
  {
   "cell_type": "code",
   "execution_count": 104,
   "metadata": {
    "scrolled": true
   },
   "outputs": [],
   "source": [
    "x_train, x_test, y_train, y_test = train_test_split(x, y, test_size=0.2, random_state=0)"
   ]
  },
  {
   "cell_type": "code",
   "execution_count": 105,
   "metadata": {
    "scrolled": true
   },
   "outputs": [],
   "source": [
    "scaler = StandardScaler()\n",
    "x_train = scaler.fit_transform(x_train)\n",
    "x_test = scaler.transform(x_test)"
   ]
  },
  {
   "cell_type": "code",
   "execution_count": 106,
   "metadata": {
    "scrolled": true
   },
   "outputs": [],
   "source": [
    "y_train = y_train.reshape((431,1))"
   ]
  },
  {
   "cell_type": "code",
   "execution_count": 107,
   "metadata": {
    "scrolled": true
   },
   "outputs": [],
   "source": [
    "def SolveRidgeRegression(X, y):\n",
    "    wRR_list = []\n",
    "    df_list = []\n",
    "    for i in range(0, 5001, 1):\n",
    "        lam_par = i\n",
    "        xtranspose = np.transpose(X)\n",
    "        xtransx = np.dot(xtranspose, X)\n",
    "        if xtransx.shape[0] != xtransx.shape[1]:\n",
    "            raise ValueError('Needs to be a square matrix for inverse')\n",
    "        lamidentity = np.identity(xtransx.shape[0]) * lam_par\n",
    "        matinv = np.linalg.inv(lamidentity + xtransx)\n",
    "        xtransy = np.dot(xtranspose, y)\n",
    "        wRR = np.dot(matinv, xtransy)\n",
    "        _, S, _ = np.linalg.svd(X)\n",
    "        df = np.sum(np.square(S) / (np.square(S) + lam_par))\n",
    "        wRR_list.append(wRR)\n",
    "        df_list.append(df)\n",
    "        #print(i)\n",
    "    return wRR_list, df_list"
   ]
  },
  {
   "cell_type": "code",
   "execution_count": 108,
   "metadata": {
    "scrolled": true
   },
   "outputs": [],
   "source": [
    "wRR_list, df_list = SolveRidgeRegression(x_train, y_train)\n",
    "wRRArray = np.asarray(wRR_list)\n",
    "dfArray = np.asarray(df_list)"
   ]
  },
  {
   "cell_type": "code",
   "execution_count": 109,
   "metadata": {
    "scrolled": true
   },
   "outputs": [],
   "source": [
    "def getRMSEValues(X_test, y_test, wRRArray, max_lamda, poly):\n",
    "    RMSE_list = []\n",
    "    for lamda in range(0, max_lamda+1):\n",
    "        wRRvals = wRRArray[lamda]\n",
    "        y_pred = np.dot(X_test, wRRvals)\n",
    "        RMSE = np.sqrt(np.sum(np.square(y_test - y_pred))/len(y_test))\n",
    "        RMSE_list.append(RMSE)\n",
    "    plotRMSEValue(max_lamda, RMSE_list, poly=poly)"
   ]
  },
  {
   "cell_type": "code",
   "execution_count": 110,
   "metadata": {
    "scrolled": true
   },
   "outputs": [],
   "source": [
    "def plotRMSEValue(max_lamda, RMSE_list, poly):\n",
    "    colors = ['#e41a1c','#377eb8','#4daf4a','#984ea3','#ff7f00','#ffff33','#a65628']\n",
    "    legend = [\"Polynomial Order, p = 1\", \"Polynomial Order, p = 2\", \"Polynomial Order, p = 3\"]\n",
    "    plt.plot(range(len(RMSE_list)), RMSE_list, color = colors[poly])\n",
    "    plt.scatter(range(len(RMSE_list)), RMSE_list, color = colors[poly] , s = 8, label= legend[poly-1])\n",
    "    # df(lambda)\n",
    "    plt.xlabel(r\"$\\lambda$\")\n",
    "    plt.ylabel(\"RMSE\")\n",
    "    # and a legend\n",
    "    plt.legend(loc='upper left')\n",
    "    plt.title(r\"RMSE vs $\\lambda$ values for the test set, $\\lambda$ = 0..%d\"%(max_lamda))"
   ]
  },
  {
   "cell_type": "code",
   "execution_count": 111,
   "metadata": {
    "scrolled": true
   },
   "outputs": [
    {
     "data": {
      "image/png": "[encoded data removed]",
      "text/plain": [
       "<Figure size 432x288 with 1 Axes>"
      ]
     },
     "metadata": {
      "needs_background": "light"
     },
     "output_type": "display_data"
    }
   ],
   "source": [
    "plt.figure()\n",
    "getRMSEValues(x_test, y_test, wRRArray, max_lamda=4999, poly=3)\n",
    "plt.show()"
   ]
  },
  {
   "cell_type": "code",
   "execution_count": 112,
   "metadata": {
    "scrolled": true
   },
   "outputs": [],
   "source": [
    "wRRvals = wRRArray[4999]\n",
    "y_pred = np.dot(x_test, wRRvals)"
   ]
  },
  {
   "cell_type": "code",
   "execution_count": 113,
   "metadata": {
    "scrolled": true
   },
   "outputs": [
    {
     "data": {
      "text/plain": [
       "-7465.828311729302"
      ]
     },
     "execution_count": 113,
     "metadata": {},
     "output_type": "execute_result"
    }
   ],
   "source": [
    "metrics.r2_score(y_test, y_pred)"
   ]
  },
  {
   "cell_type": "code",
   "execution_count": 114,
   "metadata": {
    "scrolled": true
   },
   "outputs": [],
   "source": [
    "df_repre = pd.DataFrame({'Actual': y_test.flatten(), 'Predicted': y_pred.flatten()})"
   ]
  },
  {
   "cell_type": "code",
   "execution_count": 115,
   "metadata": {
    "scrolled": true
   },
   "outputs": [
    {
     "data": {
      "image/png": "[encoded data removed]",
      "text/plain": [
       "<Figure size 1152x720 with 1 Axes>"
      ]
     },
     "metadata": {
      "needs_background": "light"
     },
     "output_type": "display_data"
    }
   ],
   "source": [
    "df1 = df_repre.head(10)\n",
    "df1.plot(kind='bar',figsize=(16,10))\n",
    "plt.grid(which='major', linestyle='-', linewidth='0.5', color='green')\n",
    "plt.grid(which='minor', linestyle=':', linewidth='0.5', color='black')\n",
    "plt.show()"
   ]
  },
  {
   "cell_type": "code",
   "execution_count": null,
   "metadata": {
    "scrolled": true
   },
   "outputs": [],
   "source": []
  }
 ],
 "metadata": {
  "kernelspec": {
   "display_name": "Python 3",
   "language": "python",
   "name": "python3"
  },
  "language_info": {
   "codemirror_mode": {
    "name": "ipython",
    "version": 3
   },
   "file_extension": ".py",
   "mimetype": "text/x-python",
   "name": "python",
   "nbconvert_exporter": "python",
   "pygments_lexer": "ipython3",
   "version": "3.7.3"
  }
 },
 "nbformat": 4,
 "nbformat_minor": 4
}
