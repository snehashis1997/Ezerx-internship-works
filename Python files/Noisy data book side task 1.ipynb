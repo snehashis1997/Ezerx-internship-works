{
 "cells": [
  {
   "cell_type": "code",
   "execution_count": 58,
   "metadata": {},
   "outputs": [],
   "source": [
    "import pandas as pd\n",
    "import numpy as np\n",
    "import matplotlib.pyplot as plt\n",
    "from sklearn.linear_model import LinearRegression\n",
    "from sklearn.tree import DecisionTreeRegressor\n",
    "from sklearn import tree\n",
    "from sklearn.model_selection import train_test_split\n",
    "from sklearn.preprocessing import PolynomialFeatures\n",
    "from sklearn.preprocessing import StandardScaler\n",
    "from sklearn import metrics\n",
    "from sklearn.metrics import accuracy_score,confusion_matrix"
   ]
  },
  {
   "cell_type": "code",
   "execution_count": 59,
   "metadata": {},
   "outputs": [],
   "source": [
    "mu = 0\n",
    "sigma = 1"
   ]
  },
  {
   "cell_type": "code",
   "execution_count": 60,
   "metadata": {},
   "outputs": [],
   "source": [
    "array = np.random.normal(mu,sigma,1000)"
   ]
  },
  {
   "cell_type": "code",
   "execution_count": 61,
   "metadata": {},
   "outputs": [
    {
     "data": {
      "text/plain": [
       "(1000,)"
      ]
     },
     "execution_count": 61,
     "metadata": {},
     "output_type": "execute_result"
    }
   ],
   "source": [
    "array.shape"
   ]
  },
  {
   "cell_type": "code",
   "execution_count": 62,
   "metadata": {},
   "outputs": [
    {
     "data": {
      "text/plain": [
       "1000"
      ]
     },
     "execution_count": 62,
     "metadata": {},
     "output_type": "execute_result"
    }
   ],
   "source": [
    "array.size"
   ]
  },
  {
   "cell_type": "code",
   "execution_count": 63,
   "metadata": {},
   "outputs": [],
   "source": [
    "autocorrelation = np.correlate(array, array, mode=\"full\")"
   ]
  },
  {
   "cell_type": "code",
   "execution_count": 64,
   "metadata": {},
   "outputs": [],
   "source": [
    "autocorrelation = list(autocorrelation[autocorrelation.size//2:])"
   ]
  },
  {
   "cell_type": "code",
   "execution_count": 65,
   "metadata": {},
   "outputs": [
    {
     "data": {
      "text/plain": [
       "(-10.0, 100.0)"
      ]
     },
     "execution_count": 65,
     "metadata": {},
     "output_type": "execute_result"
    },
    {
     "data": {
      "image/png": "[encoded data removed]",
      "text/plain": [
       "<Figure size 432x288 with 1 Axes>"
      ]
     },
     "metadata": {
      "needs_background": "light"
     },
     "output_type": "display_data"
    }
   ],
   "source": [
    "plt.plot(autocorrelation)\n",
    "plt.grid(\"on\")\n",
    "plt.xlim([-10,+100])"
   ]
  },
  {
   "cell_type": "code",
   "execution_count": 66,
   "metadata": {},
   "outputs": [
    {
     "data": {
      "text/plain": [
       "987.689747321944"
      ]
     },
     "execution_count": 66,
     "metadata": {},
     "output_type": "execute_result"
    }
   ],
   "source": [
    "max(autocorrelation)"
   ]
  },
  {
   "cell_type": "code",
   "execution_count": 67,
   "metadata": {},
   "outputs": [
    {
     "data": {
      "text/plain": [
       "0"
      ]
     },
     "execution_count": 67,
     "metadata": {},
     "output_type": "execute_result"
    }
   ],
   "source": [
    "autocorrelation.index(max(autocorrelation))"
   ]
  },
  {
   "cell_type": "code",
   "execution_count": 68,
   "metadata": {},
   "outputs": [],
   "source": [
    "df = pd.read_csv(\"NoisyDataset.csv\",header=None)"
   ]
  },
  {
   "cell_type": "code",
   "execution_count": 69,
   "metadata": {},
   "outputs": [
    {
     "data": {
      "text/html": [
       "<div>\n",
       "<style scoped>\n",
       "    .dataframe tbody tr th:only-of-type {\n",
       "        vertical-align: middle;\n",
       "    }\n",
       "\n",
       "    .dataframe tbody tr th {\n",
       "        vertical-align: top;\n",
       "    }\n",
       "\n",
       "    .dataframe thead th {\n",
       "        text-align: right;\n",
       "    }\n",
       "</style>\n",
       "<table border=\"1\" class=\"dataframe\">\n",
       "  <thead>\n",
       "    <tr style=\"text-align: right;\">\n",
       "      <th></th>\n",
       "      <th>0</th>\n",
       "      <th>1</th>\n",
       "      <th>2</th>\n",
       "      <th>3</th>\n",
       "      <th>4</th>\n",
       "      <th>5</th>\n",
       "      <th>6</th>\n",
       "      <th>7</th>\n",
       "      <th>8</th>\n",
       "      <th>9</th>\n",
       "      <th>...</th>\n",
       "      <th>306</th>\n",
       "      <th>307</th>\n",
       "      <th>308</th>\n",
       "      <th>309</th>\n",
       "      <th>310</th>\n",
       "      <th>311</th>\n",
       "      <th>312</th>\n",
       "      <th>313</th>\n",
       "      <th>314</th>\n",
       "      <th>315</th>\n",
       "    </tr>\n",
       "  </thead>\n",
       "  <tbody>\n",
       "    <tr>\n",
       "      <th>995</th>\n",
       "      <td>0.808411</td>\n",
       "      <td>0.821816</td>\n",
       "      <td>0.835479</td>\n",
       "      <td>0.849052</td>\n",
       "      <td>0.862153</td>\n",
       "      <td>0.874391</td>\n",
       "      <td>0.885380</td>\n",
       "      <td>0.894772</td>\n",
       "      <td>0.902275</td>\n",
       "      <td>0.907674</td>\n",
       "      <td>...</td>\n",
       "      <td>0.742201</td>\n",
       "      <td>0.738913</td>\n",
       "      <td>0.735964</td>\n",
       "      <td>0.733326</td>\n",
       "      <td>0.730972</td>\n",
       "      <td>0.728876</td>\n",
       "      <td>0.727016</td>\n",
       "      <td>0.725368</td>\n",
       "      <td>0.723912</td>\n",
       "      <td>0.0</td>\n",
       "    </tr>\n",
       "    <tr>\n",
       "      <th>996</th>\n",
       "      <td>0.938134</td>\n",
       "      <td>0.969760</td>\n",
       "      <td>1.001871</td>\n",
       "      <td>1.033601</td>\n",
       "      <td>1.064005</td>\n",
       "      <td>1.092103</td>\n",
       "      <td>1.116935</td>\n",
       "      <td>1.137616</td>\n",
       "      <td>1.153396</td>\n",
       "      <td>1.163707</td>\n",
       "      <td>...</td>\n",
       "      <td>0.733507</td>\n",
       "      <td>0.731243</td>\n",
       "      <td>0.729212</td>\n",
       "      <td>0.727396</td>\n",
       "      <td>0.725775</td>\n",
       "      <td>0.724332</td>\n",
       "      <td>0.723051</td>\n",
       "      <td>0.721916</td>\n",
       "      <td>0.720914</td>\n",
       "      <td>0.0</td>\n",
       "    </tr>\n",
       "    <tr>\n",
       "      <th>997</th>\n",
       "      <td>1.028615</td>\n",
       "      <td>0.956448</td>\n",
       "      <td>1.242564</td>\n",
       "      <td>1.022027</td>\n",
       "      <td>1.366160</td>\n",
       "      <td>1.356022</td>\n",
       "      <td>1.327050</td>\n",
       "      <td>1.382152</td>\n",
       "      <td>1.262005</td>\n",
       "      <td>1.426543</td>\n",
       "      <td>...</td>\n",
       "      <td>1.002336</td>\n",
       "      <td>0.867829</td>\n",
       "      <td>0.999495</td>\n",
       "      <td>0.823586</td>\n",
       "      <td>0.634646</td>\n",
       "      <td>0.691459</td>\n",
       "      <td>0.778564</td>\n",
       "      <td>0.773287</td>\n",
       "      <td>0.628403</td>\n",
       "      <td>1.0</td>\n",
       "    </tr>\n",
       "    <tr>\n",
       "      <th>998</th>\n",
       "      <td>1.041927</td>\n",
       "      <td>1.088121</td>\n",
       "      <td>1.134976</td>\n",
       "      <td>1.181211</td>\n",
       "      <td>1.225427</td>\n",
       "      <td>1.266173</td>\n",
       "      <td>1.302025</td>\n",
       "      <td>1.331668</td>\n",
       "      <td>1.353984</td>\n",
       "      <td>1.368117</td>\n",
       "      <td>...</td>\n",
       "      <td>0.729829</td>\n",
       "      <td>0.727998</td>\n",
       "      <td>0.726356</td>\n",
       "      <td>0.724887</td>\n",
       "      <td>0.723576</td>\n",
       "      <td>0.722409</td>\n",
       "      <td>0.721373</td>\n",
       "      <td>0.720456</td>\n",
       "      <td>0.719645</td>\n",
       "      <td>0.0</td>\n",
       "    </tr>\n",
       "    <tr>\n",
       "      <th>999</th>\n",
       "      <td>0.781452</td>\n",
       "      <td>0.790998</td>\n",
       "      <td>0.800719</td>\n",
       "      <td>0.810363</td>\n",
       "      <td>0.819656</td>\n",
       "      <td>0.828313</td>\n",
       "      <td>0.836057</td>\n",
       "      <td>0.842635</td>\n",
       "      <td>0.847834</td>\n",
       "      <td>0.851496</td>\n",
       "      <td>...</td>\n",
       "      <td>0.739565</td>\n",
       "      <td>0.736587</td>\n",
       "      <td>0.733917</td>\n",
       "      <td>0.731528</td>\n",
       "      <td>0.729396</td>\n",
       "      <td>0.727499</td>\n",
       "      <td>0.725814</td>\n",
       "      <td>0.724321</td>\n",
       "      <td>0.723003</td>\n",
       "      <td>0.0</td>\n",
       "    </tr>\n",
       "  </tbody>\n",
       "</table>\n",
       "<p>5 rows × 316 columns</p>\n",
       "</div>"
      ],
      "text/plain": [
       "          0         1         2         3         4         5         6    \\\n",
       "995  0.808411  0.821816  0.835479  0.849052  0.862153  0.874391  0.885380   \n",
       "996  0.938134  0.969760  1.001871  1.033601  1.064005  1.092103  1.116935   \n",
       "997  1.028615  0.956448  1.242564  1.022027  1.366160  1.356022  1.327050   \n",
       "998  1.041927  1.088121  1.134976  1.181211  1.225427  1.266173  1.302025   \n",
       "999  0.781452  0.790998  0.800719  0.810363  0.819656  0.828313  0.836057   \n",
       "\n",
       "          7         8         9    ...       306       307       308  \\\n",
       "995  0.894772  0.902275  0.907674  ...  0.742201  0.738913  0.735964   \n",
       "996  1.137616  1.153396  1.163707  ...  0.733507  0.731243  0.729212   \n",
       "997  1.382152  1.262005  1.426543  ...  1.002336  0.867829  0.999495   \n",
       "998  1.331668  1.353984  1.368117  ...  0.729829  0.727998  0.726356   \n",
       "999  0.842635  0.847834  0.851496  ...  0.739565  0.736587  0.733917   \n",
       "\n",
       "          309       310       311       312       313       314  315  \n",
       "995  0.733326  0.730972  0.728876  0.727016  0.725368  0.723912  0.0  \n",
       "996  0.727396  0.725775  0.724332  0.723051  0.721916  0.720914  0.0  \n",
       "997  0.823586  0.634646  0.691459  0.778564  0.773287  0.628403  1.0  \n",
       "998  0.724887  0.723576  0.722409  0.721373  0.720456  0.719645  0.0  \n",
       "999  0.731528  0.729396  0.727499  0.725814  0.724321  0.723003  0.0  \n",
       "\n",
       "[5 rows x 316 columns]"
      ]
     },
     "execution_count": 69,
     "metadata": {},
     "output_type": "execute_result"
    }
   ],
   "source": [
    "df.tail()"
   ]
  },
  {
   "cell_type": "code",
   "execution_count": 70,
   "metadata": {},
   "outputs": [
    {
     "data": {
      "text/plain": [
       "(1000, 316)"
      ]
     },
     "execution_count": 70,
     "metadata": {},
     "output_type": "execute_result"
    }
   ],
   "source": [
    "df.shape"
   ]
  },
  {
   "cell_type": "code",
   "execution_count": 71,
   "metadata": {},
   "outputs": [],
   "source": [
    "x = df.iloc[:, :-1].values\n",
    "y = df.iloc[:, 315].values"
   ]
  },
  {
   "cell_type": "code",
   "execution_count": 72,
   "metadata": {},
   "outputs": [],
   "source": [
    "y_true = list(y)"
   ]
  },
  {
   "cell_type": "code",
   "execution_count": 73,
   "metadata": {},
   "outputs": [
    {
     "data": {
      "text/plain": [
       "((1000, 315), (1000,))"
      ]
     },
     "execution_count": 73,
     "metadata": {},
     "output_type": "execute_result"
    }
   ],
   "source": [
    "x.shape,y.shape"
   ]
  },
  {
   "cell_type": "code",
   "execution_count": 74,
   "metadata": {},
   "outputs": [
    {
     "data": {
      "text/plain": [
       "(315,)"
      ]
     },
     "execution_count": 74,
     "metadata": {},
     "output_type": "execute_result"
    }
   ],
   "source": [
    "x[:][1].shape"
   ]
  },
  {
   "cell_type": "code",
   "execution_count": 89,
   "metadata": {},
   "outputs": [
    {
     "data": {
      "text/plain": [
       "array([0., 1.])"
      ]
     },
     "execution_count": 89,
     "metadata": {},
     "output_type": "execute_result"
    }
   ],
   "source": [
    "np.unique(y_true)"
   ]
  },
  {
   "cell_type": "code",
   "execution_count": 88,
   "metadata": {},
   "outputs": [
    {
     "data": {
      "text/plain": [
       "(array([494.,   0.,   0.,   0.,   0.,   0.,   0.,   0.,   0., 506.]),\n",
       " array([0. , 0.1, 0.2, 0.3, 0.4, 0.5, 0.6, 0.7, 0.8, 0.9, 1. ]),\n",
       " <a list of 10 Patch objects>)"
      ]
     },
     "execution_count": 88,
     "metadata": {},
     "output_type": "execute_result"
    },
    {
     "data": {
      "image/png": "[encoded data removed]",
      "text/plain": [
       "<Figure size 432x288 with 1 Axes>"
      ]
     },
     "metadata": {
      "needs_background": "light"
     },
     "output_type": "display_data"
    }
   ],
   "source": [
    "plt.hist(y_true)"
   ]
  },
  {
   "cell_type": "code",
   "execution_count": 76,
   "metadata": {},
   "outputs": [],
   "source": [
    "def signaltonoise(a):\n",
    "    axis=0\n",
    "    ddof=0\n",
    "    \n",
    "    a = np.asanyarray(a)\n",
    "    m = a.mean(axis)\n",
    "    sd = a.std(axis=axis, ddof=ddof)\n",
    "    return np.where(sd == 0, 0, m/sd)"
   ]
  },
  {
   "cell_type": "code",
   "execution_count": 77,
   "metadata": {},
   "outputs": [],
   "source": [
    "snr = []\n",
    "\n",
    "for i in range(x.shape[0]):\n",
    "    \n",
    "    array = x[:][i]\n",
    "    \n",
    "    snr.append(signaltonoise(array))"
   ]
  },
  {
   "cell_type": "code",
   "execution_count": 78,
   "metadata": {},
   "outputs": [
    {
     "data": {
      "text/plain": [
       "(array([302., 513., 118.,  43.,  13.,   6.,   2.,   1.,   1.,   1.]),\n",
       " array([ 2.89922396,  3.81477754,  4.73033112,  5.64588469,  6.56143827,\n",
       "         7.47699185,  8.39254542,  9.308099  , 10.22365257, 11.13920615,\n",
       "        12.05475973]),\n",
       " <a list of 10 Patch objects>)"
      ]
     },
     "execution_count": 78,
     "metadata": {},
     "output_type": "execute_result"
    },
    {
     "data": {
      "image/png": "[encoded data removed]",
      "text/plain": [
       "<Figure size 432x288 with 1 Axes>"
      ]
     },
     "metadata": {
      "needs_background": "light"
     },
     "output_type": "display_data"
    }
   ],
   "source": [
    "plt.hist(snr)"
   ]
  },
  {
   "cell_type": "code",
   "execution_count": 84,
   "metadata": {},
   "outputs": [
    {
     "data": {
      "text/plain": [
       "(3.81, 3.9)"
      ]
     },
     "execution_count": 84,
     "metadata": {},
     "output_type": "execute_result"
    },
    {
     "data": {
      "image/png": "[encoded data removed]",
      "text/plain": [
       "<Figure size 432x288 with 1 Axes>"
      ]
     },
     "metadata": {
      "needs_background": "light"
     },
     "output_type": "display_data"
    }
   ],
   "source": [
    "plt.hist(snr)\n",
    "plt.xlim([3.81,3.9])"
   ]
  },
  {
   "cell_type": "code",
   "execution_count": 80,
   "metadata": {},
   "outputs": [],
   "source": [
    "#snr"
   ]
  },
  {
   "cell_type": "code",
   "execution_count": 90,
   "metadata": {},
   "outputs": [],
   "source": [
    "y_pred = []\n",
    "\n",
    "for i in range(1000):\n",
    "    if snr[i]>=3.81477754:\n",
    "        y_pred.append(0)\n",
    "    else:\n",
    "        y_pred.append(1)"
   ]
  },
  {
   "cell_type": "code",
   "execution_count": 91,
   "metadata": {},
   "outputs": [
    {
     "name": "stdout",
     "output_type": "stream",
     "text": [
      "[[417  77]\n",
      " [281 225]]\n"
     ]
    }
   ],
   "source": [
    "print(confusion_matrix(y_true,y_pred))"
   ]
  },
  {
   "cell_type": "code",
   "execution_count": 92,
   "metadata": {},
   "outputs": [
    {
     "name": "stdout",
     "output_type": "stream",
     "text": [
      "0.642\n"
     ]
    }
   ],
   "source": [
    "print(accuracy_score(y_true,y_pred))"
   ]
  },
  {
   "cell_type": "code",
   "execution_count": null,
   "metadata": {},
   "outputs": [],
   "source": []
  }
 ],
 "metadata": {
  "kernelspec": {
   "display_name": "Python 3",
   "language": "python",
   "name": "python3"
  },
  "language_info": {
   "codemirror_mode": {
    "name": "ipython",
    "version": 3
   },
   "file_extension": ".py",
   "mimetype": "text/x-python",
   "name": "python",
   "nbconvert_exporter": "python",
   "pygments_lexer": "ipython3",
   "version": "3.7.3"
  }
 },
 "nbformat": 4,
 "nbformat_minor": 4
}
