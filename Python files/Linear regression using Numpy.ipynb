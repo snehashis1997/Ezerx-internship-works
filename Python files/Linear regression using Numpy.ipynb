{
 "cells": [
  {
   "cell_type": "code",
   "execution_count": 33,
   "metadata": {},
   "outputs": [],
   "source": [
    "import pandas as pd\n",
    "import numpy as np\n",
    "import matplotlib.pyplot as plt\n",
    "from sklearn.linear_model import LinearRegression\n",
    "from sklearn.model_selection import train_test_split\n",
    "from sklearn.preprocessing import PolynomialFeatures\n",
    "from sklearn.preprocessing import StandardScaler\n",
    "from sklearn import metrics\n",
    "import random"
   ]
  },
  {
   "cell_type": "code",
   "execution_count": 34,
   "metadata": {},
   "outputs": [],
   "source": [
    "df = pd.read_csv(\"MLDataset.csv\",header = None)"
   ]
  },
  {
   "cell_type": "code",
   "execution_count": 35,
   "metadata": {},
   "outputs": [
    {
     "data": {
      "text/plain": [
       "'corr_matrix = df.corr().abs()\\n\\n# Select upper triangle of correlation matrix\\nupper = corr_matrix.where(np.triu(np.ones(corr_matrix.shape), k=1).astype(np.bool))\\n\\n# Find index of feature columns with correlation greater than 0.95\\nto_drop = [column for column in upper.columns if any(upper[column] > 0.5)]\\n# Drop features \\ndf_drop = df.drop(df[to_drop], axis=1)'"
      ]
     },
     "execution_count": 35,
     "metadata": {},
     "output_type": "execute_result"
    }
   ],
   "source": [
    "# Create correlation matrix\n",
    "'''corr_matrix = df.corr().abs()\n",
    "\n",
    "# Select upper triangle of correlation matrix\n",
    "upper = corr_matrix.where(np.triu(np.ones(corr_matrix.shape), k=1).astype(np.bool))\n",
    "\n",
    "# Find index of feature columns with correlation greater than 0.95\n",
    "to_drop = [column for column in upper.columns if any(upper[column] > 0.5)]\n",
    "# Drop features \n",
    "df_drop = df.drop(df[to_drop], axis=1)'''"
   ]
  },
  {
   "cell_type": "code",
   "execution_count": 36,
   "metadata": {},
   "outputs": [],
   "source": [
    "x = df.iloc[:, :-1].values\n",
    "y = df.iloc[:, 291].values"
   ]
  },
  {
   "cell_type": "code",
   "execution_count": 37,
   "metadata": {},
   "outputs": [],
   "source": [
    "x_train, x_test, y_train, y_test = train_test_split(x, y, test_size=0.1,shuffle = True, random_state=0)"
   ]
  },
  {
   "cell_type": "code",
   "execution_count": 38,
   "metadata": {},
   "outputs": [],
   "source": [
    "scaler = StandardScaler()\n",
    "x_train = scaler.fit_transform(x_train)\n",
    "x_test = scaler.transform(x_test)"
   ]
  },
  {
   "cell_type": "code",
   "execution_count": null,
   "metadata": {},
   "outputs": [],
   "source": [
    "y_train.shape"
   ]
  },
  {
   "cell_type": "code",
   "execution_count": 39,
   "metadata": {},
   "outputs": [],
   "source": [
    "y_train = y_train.reshape((431))\n",
    "#Labels=pd.get_dummies(y_train)"
   ]
  },
  {
   "cell_type": "code",
   "execution_count": 40,
   "metadata": {},
   "outputs": [
    {
     "data": {
      "text/plain": [
       "((539, 291), (539,), (431, 291), (431,), (108, 291), (108,))"
      ]
     },
     "execution_count": 40,
     "metadata": {},
     "output_type": "execute_result"
    }
   ],
   "source": [
    "x.shape,y.shape,x_train.shape,y_train.shape,x_test.shape,y_test.shape"
   ]
  },
  {
   "cell_type": "code",
   "execution_count": 41,
   "metadata": {},
   "outputs": [],
   "source": [
    "#x_train = (x_train - x_train.mean()) / (x_train.std())\n",
    "#x_test  = (x_test - x_train.mean()) /  (x_test.std())"
   ]
  },
  {
   "cell_type": "code",
   "execution_count": 42,
   "metadata": {},
   "outputs": [],
   "source": [
    "def BGD(X, Y, theta, alpha, maxIterations):\n",
    "    m, n = np.shape(X)\n",
    "    added_X = np.ones((m, n+1))\n",
    "    added_X[:,1:] = X\n",
    "    Y = Y.reshape(m,1)\n",
    "    for i in range(0, maxIterations):\n",
    "        gradient = np.dot(added_X.transpose(), (np.dot(added_X, theta) - Y)) / m\n",
    "        # print(gradient)\n",
    "        theta = theta - alpha * gradient\n",
    "    return theta\n",
    "\n",
    "def SGD(X, Y, theta, alpha, maxIterations):\n",
    "    m, n = np.shape(X)\n",
    "    data = []\n",
    "    for i in range(m):\n",
    "        data.append(i)\n",
    "    added_X = np.ones((m, n + 1))\n",
    "    added_X[:, 1:] = X\n",
    "    Y = Y.reshape(m, 1)\n",
    "\n",
    "    for i in range(0,maxIterations):\n",
    "        H = np.dot(added_X, theta)\n",
    "        loss = H - Y\n",
    "        index = random.randint(0,m-1)\n",
    "        gradient = loss[index]*added_X[index]\n",
    "        theta = theta - alpha * gradient.reshape(theta.shape[0],1)\n",
    "    return theta\n",
    "\n",
    "def predict(X, theta):\n",
    "    m, n = np.shape(X)\n",
    "    x_test = np.ones((m, n+1))\n",
    "    x_test[:, 1:] = X\n",
    "    res = np.dot(x_test, theta)\n",
    "    return res"
   ]
  },
  {
   "cell_type": "code",
   "execution_count": 43,
   "metadata": {},
   "outputs": [],
   "source": [
    "ratio = 0.7\n",
    "\n",
    "m,n = np.shape(x_train)\n",
    "#print(m)\n",
    "#print(n)\n",
    "theta = np.ones(n+1).reshape(n+1,1)\n",
    "alpha = 0.001\n",
    "maxIteration = 100000\n",
    "\n",
    "theta_SGD = SGD(x_train, y_train, theta, alpha, maxIteration)"
   ]
  },
  {
   "cell_type": "code",
   "execution_count": 44,
   "metadata": {},
   "outputs": [],
   "source": [
    "y_pred = predict(x_test,theta_SGD)"
   ]
  },
  {
   "cell_type": "code",
   "execution_count": 45,
   "metadata": {},
   "outputs": [
    {
     "data": {
      "text/plain": [
       "0.5717591845663126"
      ]
     },
     "execution_count": 45,
     "metadata": {},
     "output_type": "execute_result"
    }
   ],
   "source": [
    "metrics.r2_score(y_test, y_pred)"
   ]
  },
  {
   "cell_type": "code",
   "execution_count": 46,
   "metadata": {},
   "outputs": [],
   "source": [
    "df_repre = pd.DataFrame({'Actual': y_test.flatten(), 'Predicted': y_pred.flatten()})"
   ]
  },
  {
   "cell_type": "code",
   "execution_count": 47,
   "metadata": {},
   "outputs": [
    {
     "data": {
      "image/png": "[encoded data removed]",
      "text/plain": [
       "<Figure size 1152x720 with 1 Axes>"
      ]
     },
     "metadata": {
      "needs_background": "light"
     },
     "output_type": "display_data"
    }
   ],
   "source": [
    "df1 = df_repre.head(10)\n",
    "df1.plot(kind='bar',figsize=(16,10))\n",
    "plt.grid(which='major', linestyle='-', linewidth='0.5', color='green')\n",
    "plt.grid(which='minor', linestyle=':', linewidth='0.5', color='black')\n",
    "plt.show()"
   ]
  },
  {
   "cell_type": "code",
   "execution_count": 48,
   "metadata": {},
   "outputs": [
    {
     "name": "stdout",
     "output_type": "stream",
     "text": [
      "Mean Absolute Error: 509.54516675026537\n",
      "Mean Squared Error: 377982.2455909037\n",
      "Root Mean Squared Error: 614.8026070137502\n"
     ]
    }
   ],
   "source": [
    "print('Mean Absolute Error:', metrics.mean_absolute_error(y_test, y_pred))  \n",
    "print('Mean Squared Error:', metrics.mean_squared_error(y_test, y_pred))  \n",
    "print('Root Mean Squared Error:', np.sqrt(metrics.mean_squared_error(y_test, y_pred)))"
   ]
  }
 ],
 "metadata": {
  "kernelspec": {
   "display_name": "Python 3",
   "language": "python",
   "name": "python3"
  },
  "language_info": {
   "codemirror_mode": {
    "name": "ipython",
    "version": 3
   },
   "file_extension": ".py",
   "mimetype": "text/x-python",
   "name": "python",
   "nbconvert_exporter": "python",
   "pygments_lexer": "ipython3",
   "version": "3.7.3"
  }
 },
 "nbformat": 4,
 "nbformat_minor": 4
}
